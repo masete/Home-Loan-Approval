{
 "cells": [
  {
   "cell_type": "code",
   "execution_count": 1,
   "id": "1b61a74c-b42d-4a9d-9cdc-a5e1f7666dc1",
   "metadata": {},
   "outputs": [],
   "source": [
    "import pandas as pd\n",
    "import matplotlib.pyplot as plt\n",
    "import numpy as np\n",
    "import seaborn as sns\n",
    "import warnings\n",
    "from scipy import stats\n",
    "from IPython.core.interactiveshell import InteractiveShell"
   ]
  },
  {
   "cell_type": "code",
   "execution_count": 2,
   "id": "48ad78d2-06fc-4b3a-90c6-e71222e43385",
   "metadata": {
    "jupyter": {
     "source_hidden": true
    },
    "tags": []
   },
   "outputs": [],
   "source": [
    "# Libraries Settings\n",
    "warnings.simplefilter(action=\"ignore\", category=FutureWarning)\n",
    "warnings.simplefilter(action=\"ignore\", category=Warning)\n",
    "InteractiveShell.ast_node_interactivity = \"all\"\n",
    "%matplotlib inline\n",
    "np.set_printoptions(suppress=True)\n",
    "\n",
    "def set_seed(seed=42):\n",
    "    np.random.seed(seed)\n",
    "    os.environ[\"PYTHONHASHSEED\"] = str(seed)\n",
    "    \n",
    "pd.set_option(\"display.width\", 100)\n",
    "pd.set_option(\"display.max_columns\", 60)\n",
    "pd.set_option(\"display.max_rows\", 25)\n",
    "pd.set_option(\"display.float_format\", lambda x: \"%.3f\" % x)"
   ]
  },
  {
   "cell_type": "code",
   "execution_count": 3,
   "id": "0719f5a1-16cb-4cfd-995a-5ef2b398c1e6",
   "metadata": {
    "jupyter": {
     "source_hidden": true
    },
    "tags": []
   },
   "outputs": [],
   "source": [
    "# plot function\n",
    "def numerical_plotting(data, col, title, symb, ylabel, color):\n",
    "    fig, ax = plt.subplots(2, 1, \n",
    "                           sharex=True, \n",
    "                           figsize=(20, 8),\n",
    "                           facecolor=\"#FFFFFF\",\n",
    "                           gridspec_kw={\"height_ratios\": (.2, .8)})\n",
    "    \n",
    "    ax[0].set_facecolor(\"#FFFFFF\")\n",
    "    ax[1].set_facecolor(\"#FFFFFF\")\n",
    "    \n",
    "    ax[0].set_title(title, \n",
    "                    weight=\"bold\", \n",
    "                    fontsize=30, \n",
    "                    pad=30)\n",
    "    \n",
    "    sns.boxplot(x=col, \n",
    "                data=data,\n",
    "                color=color,\n",
    "                ax=ax[0])\n",
    "    \n",
    "    ax[0].set(yticks=[])\n",
    "    \n",
    "    sns.distplot(data[col], kde=True, color=color)\n",
    "    \n",
    "    plt.xticks(weight=\"bold\", fontsize=10)\n",
    "    plt.yticks(weight=\"bold\", fontsize=10)\n",
    "    \n",
    "    ax[0].set_xlabel(col, weight=\"bold\", fontsize=15, labelpad=15)\n",
    "    ax[1].set_xlabel(col, weight=\"bold\", fontsize=15)\n",
    "    ax[1].set_ylabel(ylabel, weight=\"bold\", fontsize=15)\n",
    "    \n",
    "    plt.axvline(data[col].mean(), \n",
    "                color='darkgreen', \n",
    "                linewidth=2.2, \n",
    "                label='mean=' + str(np.round(data[col].mean(),1)) + symb)\n",
    "    plt.axvline(data[col].median(), \n",
    "                color='red', \n",
    "                linewidth=2.2, \n",
    "                label='median='+ str(np.round(data[col].median(),1)) + symb)\n",
    "    plt.axvline(data[col].max(), \n",
    "                color='blue', \n",
    "                linewidth=2.2, \n",
    "                label='max='+ str(np.round(data[col].max(),1)) + symb)\n",
    "    plt.axvline(data[col].min(), \n",
    "                color='orange', \n",
    "                linewidth=2.2, \n",
    "                label='min='+ str(np.round(data[col].min(),1)) + symb)\n",
    "    plt.axvline(data[col].mode()[0], \n",
    "                color='purple', \n",
    "                linewidth=2.2, \n",
    "                label='mode='+ str(data[col].mode()[0]) + symb)\n",
    "    \n",
    "    \n",
    "    plt.legend(bbox_to_anchor=(1, 1), \n",
    "               ncol=1, \n",
    "               fontsize=17, \n",
    "               fancybox=True, \n",
    "               shadow=True, \n",
    "               frameon=False)\n",
    "    \n",
    "    plt.tight_layout()\n",
    "    plt.show()\n",
    "    \n",
    "def count_pie_plot(datapie, datacount, colpiey, colcount, text1, text2, piecomap,\n",
    "                   xlabel, ylabel, xticklabel, yticklabel, ystart, yend, pielabels, yplus, \n",
    "                   piefs=10, countcomap=None, pctdistance=0.65, fontsize=15, xtickrotation=None):\n",
    "\n",
    "    # Subplots\n",
    "    fig, (ax1, ax2) = plt.subplots(ncols=2, \n",
    "                                   nrows=1, \n",
    "                                   facecolor=(\"#FFFFFF\"),\n",
    "                                   figsize=(24, 8))\n",
    "\n",
    "    datapie.plot(kind=\"pie\", \n",
    "                 y=colpiey,\n",
    "                 autopct='%1.1f%%',\n",
    "                 labels=None,\n",
    "                 startangle=90,\n",
    "                 colors=piecomap,\n",
    "                 wedgeprops=dict(width=0.15),\n",
    "                 pctdistance=pctdistance,\n",
    "                 fontsize=piefs,\n",
    "                 ax=ax1,\n",
    "                 textprops=dict(color=\"black\", \n",
    "                                weight=\"bold\"))\n",
    "    \n",
    "    sns.countplot(x=colcount,\n",
    "                  data=datacount,\n",
    "                  palette=countcomap,\n",
    "                  ax=ax2)\n",
    "\n",
    "    #title\n",
    "    x0, x1 = ax1.get_xlim()\n",
    "    y0, y1 = ax1.get_ylim()\n",
    "    \n",
    "    ax1.text(x0, y1 * 1.40, \n",
    "             text1, \n",
    "             fontsize=30, \n",
    "             ha=\"left\", \n",
    "             va=\"center\", \n",
    "             weight=\"bold\")\n",
    "    ax1.text(x0, y1 * 1.25, \n",
    "             text2, \n",
    "             fontsize=18, \n",
    "             ha=\"left\", \n",
    "             va=\"center\")\n",
    "    \n",
    "    ax1.legend(pielabels, \n",
    "               loc=\"upper left\", \n",
    "               bbox_to_anchor=(x0*0.01, y1*0.85), \n",
    "               prop={'size': 10.5}, frameon=False, ncol=len(datapie))\n",
    "    \n",
    "    ax2.set_xlabel(xlabel,\n",
    "                   weight=\"bold\",\n",
    "                   labelpad=15,\n",
    "                   fontsize=15)\n",
    "\n",
    "    ax2.set_ylabel(ylabel,\n",
    "                   weight=\"bold\",\n",
    "                   labelpad=15,\n",
    "                   fontsize=15)\n",
    "\n",
    "    ax2.set_xticklabels(labels=xticklabel,\n",
    "                        weight=\"semibold\",\n",
    "                        fontsize=10,\n",
    "                        rotation=xtickrotation)\n",
    "    ax2.set_yticklabels(labels=yticklabel,\n",
    "                        weight=\"semibold\",\n",
    "                        fontsize=10)\n",
    "\n",
    "    # data label\n",
    "    i=0\n",
    "\n",
    "    for p in ax2.patches:\n",
    "        value = f\"{p.get_height()}\"\n",
    "        if (i < 2):\n",
    "            y1 = -2\n",
    "        else:\n",
    "            y1 = 2\n",
    "        i += 1\n",
    "        x = p.get_x() + p.get_width() / 2 \n",
    "        y = p.get_y() + p.get_height() + yplus\n",
    "        ax2.text(x, y, value, ha=\"center\", va=\"center\", fontsize=15, weight=\"semibold\") \n",
    "\n",
    "    ax2.set_ylim(ystart, yend)\n",
    "    ax2.set_facecolor(\"#FFFFFF\")\n",
    "    ax1.set_ylabel(None)\n",
    "    \n",
    "    plt.tight_layout()\n",
    "    return fig\n",
    "\n",
    "def countplot_y(data, xplus, coly, sizey, text1, text2, \n",
    "                xlabel, ylabel, xstart, xend, ytimes1, ytimes2):\n",
    "\n",
    "    fig, ax = plt.subplots(ncols=1,\n",
    "                           nrows=1,\n",
    "                           facecolor=(\"#FFFFFF\"),\n",
    "                           figsize=(24, sizey))\n",
    "\n",
    "    sns.countplot(y=coly,\n",
    "                  data=data,\n",
    "                  palette=['#E0144C', '#FF5858', '#3AB0FF', '#FFB562', '#6FEDD6', '#6D9885'],\n",
    "                  ax=ax)\n",
    "\n",
    "    x0, x1 = ax.get_xlim()\n",
    "    y0, y1 = ax.get_ylim()\n",
    "\n",
    "    ax.text(x0, y1 * ytimes1, \n",
    "            text1, fontsize=30, \n",
    "            ha=\"left\", va=\"center\", weight=\"bold\")\n",
    "    ax.text(x0, y1 * ytimes2, \n",
    "            text2, fontsize=18, \n",
    "            ha=\"left\", va=\"center\")\n",
    "\n",
    "    plt.xticks(weight=\"bold\",\n",
    "               fontsize=10)\n",
    "    plt.yticks(weight=\"bold\",\n",
    "               fontsize=10)\n",
    "    plt.xlabel(xlabel, weight=\"bold\", \n",
    "               fontsize=25, labelpad=20)\n",
    "    plt.ylabel(ylabel, weight=\"bold\", \n",
    "               fontsize=25, labelpad=20)\n",
    "\n",
    "    # data label\n",
    "    i=0\n",
    "\n",
    "    for p in ax.patches:\n",
    "        value = f'{p.get_width()}'\n",
    "        if i < 7:\n",
    "            x1 = -1.2\n",
    "        else:\n",
    "            x1 = 1.2\n",
    "\n",
    "        i+=1\n",
    "        x = p.get_x() + p.get_width() + xplus\n",
    "        y = p.get_y() + p.get_height() -.4\n",
    "        ax.text(x, y, value, ha='center', va='center', fontsize=15, weight='semibold') \n",
    "\n",
    "    plt.tight_layout()\n",
    "    ax.set_xlim(xstart, xend)\n",
    "    ax.set_facecolor(\"#FFFFFF\")\n",
    "    \n",
    "    return fig\n",
    "\n",
    "def bivariate_numerical_plot(data, x, hue, title, xlabel, ylabel):\n",
    "    fig, ax = plt.subplots(1, 1,\n",
    "                           figsize=(20, 6), \n",
    "                           facecolor=\"#FFFFFF\")\n",
    "    sns.kdeplot(data=data, \n",
    "                x=x, \n",
    "                hue=hue, \n",
    "                fill=True)\n",
    "    \n",
    "    ax.set_facecolor(\"#FFFFFF\")\n",
    "    \n",
    "    plt.title(title, weight=\"bold\", \n",
    "              fontsize=25, pad=30)\n",
    "    plt.xticks(weight=\"bold\", fontsize=10)\n",
    "    plt.yticks(weight=\"bold\", fontsize=10)\n",
    "    plt.xlabel(xlabel, weight=\"bold\", \n",
    "               fontsize=15, labelpad=15)\n",
    "    plt.ylabel(ylabel, weight=\"bold\", \n",
    "               fontsize=15, labelpad=15)\n",
    "    plt.tight_layout()\n",
    "    plt.show()\n",
    "    \n",
    "def mtvboxplot(data, x, y, hue, title, xlabel, ylabel):\n",
    "    fig, ax = plt.subplots(1, 1,\n",
    "                           figsize=(24, 8))\n",
    "    sns.boxplot(x=x, y=y, hue=hue, \n",
    "                data=data, ax=ax)\n",
    "    plt.title(title, weight=\"bold\", \n",
    "              fontsize=25, pad=25)\n",
    "    plt.xticks(weight=\"bold\", fontsize=10)\n",
    "    plt.yticks(weight=\"bold\", fontsize=10)\n",
    "    plt.xlabel(xlabel, weight=\"bold\", \n",
    "               fontsize=15, labelpad=10)\n",
    "    plt.ylabel(ylabel, weight=\"bold\", \n",
    "               fontsize=15, labelpad=10)\n",
    "    plt.tight_layout()\n",
    "    plt.show()"
   ]
  },
  {
   "cell_type": "code",
   "execution_count": 4,
   "id": "95594379-026f-4d2c-bbc8-9ec75ab3b3bb",
   "metadata": {
    "jupyter": {
     "source_hidden": true
    },
    "tags": []
   },
   "outputs": [],
   "source": [
    "# stat function\n",
    "\n",
    "def spearman_correlation(data1, data2, title):\n",
    "    print(\"-\" * 15, title, \"-\" * 15)\n",
    "    print()\n",
    "    # calculate Spearman's Correlation\n",
    "    coef, p = stats.spearmanr(data1, data2)\n",
    "    print(f\"Spearmans correlation coefficient: {coef:.3f}\")\n",
    "    print()\n",
    "    # interpret the significance\n",
    "    alpha = 0.05\n",
    "    if (p > alpha):\n",
    "        print(f\"Samples are uncorrelated (fail to reject H0) p={p:.3f}\")\n",
    "    else:\n",
    "        print(f\"Samples are correlated (reject H0) p={p:.3f}\")\n",
    "    print()\n",
    "    \n",
    "def pearson_correlation(data1, data2, title):\n",
    "    print(\"-\" * 15, title, \"-\" * 15)\n",
    "    print()\n",
    "    # calculate Pearson's Correlation\n",
    "    coef, p = stats.pearsonr(data1, data2)\n",
    "    print(f\"Pearson correlation coefficient: {coef:.3f}\")\n",
    "    print()\n",
    "    # interpret the significance\n",
    "    alpha = 0.05\n",
    "    if (p > alpha):\n",
    "        print(f\"Samples are uncorrelated (fail to reject H0) p={p:.3f}\")\n",
    "    else:\n",
    "        print(f\"Samples are correlated (reject H0) p={p:.3f}\")\n",
    "    print()\n",
    "    \n",
    "def skew_kurtosis(data, title):\n",
    "    skw = stats.skew(data, bias=False)\n",
    "    kurt = stats.kurtosis(data, bias=False)\n",
    "    \n",
    "    print(\"-\" * 20, title, \"-\" * 20)\n",
    "    print(f\"Skewness: {skw}\")\n",
    "    if (skw < -1) and (skw > 1):\n",
    "        print(\"Highly skewed\")\n",
    "    elif (-1 < skw < -0.5) or (1 < skw < 0.5):\n",
    "        print(\"Moderately skewed\")\n",
    "    elif (-0.5 < skw < 0.5):\n",
    "        print(\"Approximately symmetric\")\n",
    "    print(\"-\" * 35)\n",
    "    print(f\"Kurtosis: {kurt}\")\n",
    "    if (kurt > 1):\n",
    "        print(\"The distribution is too peaked\")\n",
    "    elif (kurt < -1):\n",
    "        print(\"The distribution is too flat\")\n",
    "    else:\n",
    "        print(\"The distribution is non-normal\")\n",
    "    print(\"-\" * 35)\n",
    "    \n",
    "def chebychev(data, title, interpret):\n",
    "    mu = round(data.mean(), 1)\n",
    "    s = round(data.std(), 1)\n",
    "    \n",
    "    fc = round(mu - (2 * s), 1)\n",
    "    sc = round(mu + (2 * s), 1)\n",
    "    \n",
    "    print(\"-\" * 20, f\"Interpretation of {title}\", \"-\" * 20)\n",
    "    print(f\"first calc: {fc}\")\n",
    "    print(f\"second calc: {sc}\")\n",
    "    print(interpret)\n",
    "    print(\"-\" * 40)"
   ]
  },
  {
   "cell_type": "code",
   "execution_count": 5,
   "id": "0368d02a-f85f-4c01-b4d8-227b57ad2afc",
   "metadata": {},
   "outputs": [],
   "source": [
    "df_test = pd.read_csv('data/loan_sanction_test.csv')\n",
    "df_train = pd.read_csv('data/loan_sanction_train.csv')"
   ]
  },
  {
   "cell_type": "code",
   "execution_count": 6,
   "id": "0633ba98-7fc1-40d8-a72a-f9f88ea6bc6b",
   "metadata": {},
   "outputs": [
    {
     "data": {
      "text/html": [
       "<div>\n",
       "<style scoped>\n",
       "    .dataframe tbody tr th:only-of-type {\n",
       "        vertical-align: middle;\n",
       "    }\n",
       "\n",
       "    .dataframe tbody tr th {\n",
       "        vertical-align: top;\n",
       "    }\n",
       "\n",
       "    .dataframe thead th {\n",
       "        text-align: right;\n",
       "    }\n",
       "</style>\n",
       "<table border=\"1\" class=\"dataframe\">\n",
       "  <thead>\n",
       "    <tr style=\"text-align: right;\">\n",
       "      <th></th>\n",
       "      <th>Loan_ID</th>\n",
       "      <th>Gender</th>\n",
       "      <th>Married</th>\n",
       "      <th>Dependents</th>\n",
       "      <th>Education</th>\n",
       "      <th>Self_Employed</th>\n",
       "      <th>ApplicantIncome</th>\n",
       "      <th>CoapplicantIncome</th>\n",
       "      <th>LoanAmount</th>\n",
       "      <th>Loan_Amount_Term</th>\n",
       "      <th>Credit_History</th>\n",
       "      <th>Property_Area</th>\n",
       "      <th>Loan_Status</th>\n",
       "    </tr>\n",
       "  </thead>\n",
       "  <tbody>\n",
       "    <tr>\n",
       "      <th>0</th>\n",
       "      <td>LP001002</td>\n",
       "      <td>Male</td>\n",
       "      <td>No</td>\n",
       "      <td>0</td>\n",
       "      <td>Graduate</td>\n",
       "      <td>No</td>\n",
       "      <td>5849</td>\n",
       "      <td>0.000</td>\n",
       "      <td>NaN</td>\n",
       "      <td>360.000</td>\n",
       "      <td>1.000</td>\n",
       "      <td>Urban</td>\n",
       "      <td>Y</td>\n",
       "    </tr>\n",
       "    <tr>\n",
       "      <th>1</th>\n",
       "      <td>LP001003</td>\n",
       "      <td>Male</td>\n",
       "      <td>Yes</td>\n",
       "      <td>1</td>\n",
       "      <td>Graduate</td>\n",
       "      <td>No</td>\n",
       "      <td>4583</td>\n",
       "      <td>1508.000</td>\n",
       "      <td>128.000</td>\n",
       "      <td>360.000</td>\n",
       "      <td>1.000</td>\n",
       "      <td>Rural</td>\n",
       "      <td>N</td>\n",
       "    </tr>\n",
       "    <tr>\n",
       "      <th>2</th>\n",
       "      <td>LP001005</td>\n",
       "      <td>Male</td>\n",
       "      <td>Yes</td>\n",
       "      <td>0</td>\n",
       "      <td>Graduate</td>\n",
       "      <td>Yes</td>\n",
       "      <td>3000</td>\n",
       "      <td>0.000</td>\n",
       "      <td>66.000</td>\n",
       "      <td>360.000</td>\n",
       "      <td>1.000</td>\n",
       "      <td>Urban</td>\n",
       "      <td>Y</td>\n",
       "    </tr>\n",
       "    <tr>\n",
       "      <th>3</th>\n",
       "      <td>LP001006</td>\n",
       "      <td>Male</td>\n",
       "      <td>Yes</td>\n",
       "      <td>0</td>\n",
       "      <td>Not Graduate</td>\n",
       "      <td>No</td>\n",
       "      <td>2583</td>\n",
       "      <td>2358.000</td>\n",
       "      <td>120.000</td>\n",
       "      <td>360.000</td>\n",
       "      <td>1.000</td>\n",
       "      <td>Urban</td>\n",
       "      <td>Y</td>\n",
       "    </tr>\n",
       "    <tr>\n",
       "      <th>4</th>\n",
       "      <td>LP001008</td>\n",
       "      <td>Male</td>\n",
       "      <td>No</td>\n",
       "      <td>0</td>\n",
       "      <td>Graduate</td>\n",
       "      <td>No</td>\n",
       "      <td>6000</td>\n",
       "      <td>0.000</td>\n",
       "      <td>141.000</td>\n",
       "      <td>360.000</td>\n",
       "      <td>1.000</td>\n",
       "      <td>Urban</td>\n",
       "      <td>Y</td>\n",
       "    </tr>\n",
       "  </tbody>\n",
       "</table>\n",
       "</div>"
      ],
      "text/plain": [
       "    Loan_ID Gender Married Dependents     Education Self_Employed  ApplicantIncome  \\\n",
       "0  LP001002   Male      No          0      Graduate            No             5849   \n",
       "1  LP001003   Male     Yes          1      Graduate            No             4583   \n",
       "2  LP001005   Male     Yes          0      Graduate           Yes             3000   \n",
       "3  LP001006   Male     Yes          0  Not Graduate            No             2583   \n",
       "4  LP001008   Male      No          0      Graduate            No             6000   \n",
       "\n",
       "   CoapplicantIncome  LoanAmount  Loan_Amount_Term  Credit_History Property_Area Loan_Status  \n",
       "0              0.000         NaN           360.000           1.000         Urban           Y  \n",
       "1           1508.000     128.000           360.000           1.000         Rural           N  \n",
       "2              0.000      66.000           360.000           1.000         Urban           Y  \n",
       "3           2358.000     120.000           360.000           1.000         Urban           Y  \n",
       "4              0.000     141.000           360.000           1.000         Urban           Y  "
      ]
     },
     "execution_count": 6,
     "metadata": {},
     "output_type": "execute_result"
    }
   ],
   "source": [
    "df_train.head()"
   ]
  },
  {
   "cell_type": "code",
   "execution_count": 7,
   "id": "08b4b089-328d-4770-92e2-6fded8404d4f",
   "metadata": {},
   "outputs": [
    {
     "data": {
      "text/plain": [
       "array(['0', '1', '2', '3+', nan], dtype=object)"
      ]
     },
     "execution_count": 7,
     "metadata": {},
     "output_type": "execute_result"
    }
   ],
   "source": [
    "df_train.Dependents.unique()"
   ]
  },
  {
   "cell_type": "code",
   "execution_count": 8,
   "id": "6a13e459-8cc7-4123-9497-ecb4523b82f0",
   "metadata": {
    "tags": []
   },
   "outputs": [
    {
     "name": "stdout",
     "output_type": "stream",
     "text": [
      "##################### Shape #####################\n",
      "(614, 13)\n",
      "##################### Types #####################\n",
      "Loan_ID               object\n",
      "Gender                object\n",
      "Married               object\n",
      "Dependents            object\n",
      "Education             object\n",
      "Self_Employed         object\n",
      "ApplicantIncome        int64\n",
      "CoapplicantIncome    float64\n",
      "LoanAmount           float64\n",
      "Loan_Amount_Term     float64\n",
      "Credit_History       float64\n",
      "Property_Area         object\n",
      "Loan_Status           object\n",
      "dtype: object\n",
      "##################### Head #####################\n",
      "    Loan_ID Gender Married Dependents     Education Self_Employed  ApplicantIncome  \\\n",
      "0  LP001002   Male      No          0      Graduate            No             5849   \n",
      "1  LP001003   Male     Yes          1      Graduate            No             4583   \n",
      "2  LP001005   Male     Yes          0      Graduate           Yes             3000   \n",
      "3  LP001006   Male     Yes          0  Not Graduate            No             2583   \n",
      "4  LP001008   Male      No          0      Graduate            No             6000   \n",
      "\n",
      "   CoapplicantIncome  LoanAmount  Loan_Amount_Term  Credit_History Property_Area Loan_Status  \n",
      "0              0.000         NaN           360.000           1.000         Urban           Y  \n",
      "1           1508.000     128.000           360.000           1.000         Rural           N  \n",
      "2              0.000      66.000           360.000           1.000         Urban           Y  \n",
      "3           2358.000     120.000           360.000           1.000         Urban           Y  \n",
      "4              0.000     141.000           360.000           1.000         Urban           Y  \n",
      "##################### NA #####################\n",
      "Loan_ID               0\n",
      "Gender               13\n",
      "Married               3\n",
      "Dependents           15\n",
      "Education             0\n",
      "Self_Employed        32\n",
      "ApplicantIncome       0\n",
      "CoapplicantIncome     0\n",
      "LoanAmount           22\n",
      "Loan_Amount_Term     14\n",
      "Credit_History       50\n",
      "Property_Area         0\n",
      "Loan_Status           0\n",
      "dtype: int64\n",
      "##################### Quantiles #####################\n",
      "                    0.000    0.050    0.500     0.950     0.990     1.000\n",
      "ApplicantIncome   150.000 1897.550 3812.500 14583.000 32540.410 81000.000\n",
      "CoapplicantIncome   0.000    0.000 1188.500  4997.400  8895.890 41667.000\n",
      "LoanAmount          9.000   56.000  128.000   297.800   496.360   700.000\n",
      "Loan_Amount_Term   12.000  180.000  360.000   360.000   480.000   480.000\n",
      "Credit_History      0.000    0.000    1.000     1.000     1.000     1.000\n"
     ]
    }
   ],
   "source": [
    "def check_df(dataframe):\n",
    "    print(\"##################### Shape #####################\")\n",
    "    print(dataframe.shape)\n",
    "    print(\"##################### Types #####################\")\n",
    "    print(dataframe.dtypes)\n",
    "    print(\"##################### Head #####################\")\n",
    "    print(dataframe.head(5))\n",
    "    print(\"##################### NA #####################\")\n",
    "    print(dataframe.isnull().sum())\n",
    "    print(\"##################### Quantiles #####################\")\n",
    "    print(dataframe.quantile([0, 0.05, 0.50, 0.95, 0.99, 1]).T)\n",
    "\n",
    "check_df(df_train)"
   ]
  },
  {
   "cell_type": "code",
   "execution_count": 9,
   "id": "e07bee0c-d7aa-4858-8f90-7121911a5f11",
   "metadata": {},
   "outputs": [],
   "source": [
    "#converting dependents to str, then dropping 3+, 3 represents 3+\n",
    "df_train['Dependents'] = df_train['Dependents'].apply(lambda x: str(x).split('+')[0])"
   ]
  },
  {
   "cell_type": "code",
   "execution_count": 10,
   "id": "b0232d52-6b15-4c30-b24e-453f45768b05",
   "metadata": {},
   "outputs": [
    {
     "data": {
      "text/plain": [
       "array(['0', '1', '2', '3', 'nan'], dtype=object)"
      ]
     },
     "execution_count": 10,
     "metadata": {},
     "output_type": "execute_result"
    }
   ],
   "source": [
    "df_train.Dependents.unique()"
   ]
  },
  {
   "cell_type": "markdown",
   "id": "e5121bff-42e6-4219-9ed2-5545df09bfc1",
   "metadata": {},
   "source": [
    "## Data cleaning"
   ]
  },
  {
   "cell_type": "code",
   "execution_count": 11,
   "id": "bf6819d4-ef9f-44d2-a280-a3725b56d313",
   "metadata": {},
   "outputs": [
    {
     "data": {
      "text/plain": [
       "<Figure size 1440x360 with 0 Axes>"
      ]
     },
     "execution_count": 11,
     "metadata": {},
     "output_type": "execute_result"
    },
    {
     "data": {
      "text/plain": [
       "<AxesSubplot:>"
      ]
     },
     "execution_count": 11,
     "metadata": {},
     "output_type": "execute_result"
    },
    {
     "data": {
      "text/plain": [
       "<function matplotlib.pyplot.plot(*args, scalex=True, scaley=True, data=None, **kwargs)>"
      ]
     },
     "execution_count": 11,
     "metadata": {},
     "output_type": "execute_result"
    },
    {
     "data": {
      "image/png": "[encoded data removed]",
      "text/plain": [
       "<Figure size 1440x360 with 1 Axes>"
      ]
     },
     "metadata": {
      "needs_background": "light"
     },
     "output_type": "display_data"
    }
   ],
   "source": [
    "#plotout columns with missing data\n",
    "plt.figure(figsize=(20,5))\n",
    "sns.heatmap(df_train.isnull(),yticklabels=False,cbar=False,cmap='viridis')\n",
    "plt.plot"
   ]
  },
  {
   "cell_type": "code",
   "execution_count": 12,
   "id": "d0778766-5594-4f29-a9e2-377d5dab184d",
   "metadata": {},
   "outputs": [
    {
     "data": {
      "text/plain": [
       "Index(['loan_id', 'gender', 'married', 'dependents', 'education', 'self_employed',\n",
       "       'applicantincome', 'coapplicantincome', 'loanamount', 'loan_amount_term', 'credit_history',\n",
       "       'property_area', 'loan_status'],\n",
       "      dtype='object')"
      ]
     },
     "execution_count": 12,
     "metadata": {},
     "output_type": "execute_result"
    }
   ],
   "source": [
    "#column names to lower case\n",
    "df_train.columns = df_train.columns.str.lower()\n",
    "df_train.columns"
   ]
  },
  {
   "cell_type": "code",
   "execution_count": 13,
   "id": "5c517c0a-10dd-4338-adf0-acaaa21c11f2",
   "metadata": {},
   "outputs": [
    {
     "data": {
      "text/plain": [
       "No     500\n",
       "Yes     82\n",
       "Name: self_employed, dtype: int64"
      ]
     },
     "execution_count": 13,
     "metadata": {},
     "output_type": "execute_result"
    }
   ],
   "source": [
    "df_train.self_employed.value_counts()"
   ]
  },
  {
   "cell_type": "code",
   "execution_count": 14,
   "id": "cb6e4fdc-4d56-4c85-90fe-498768f55f44",
   "metadata": {},
   "outputs": [
    {
     "data": {
      "text/plain": [
       "1.000    475\n",
       "0.000     89\n",
       "Name: credit_history, dtype: int64"
      ]
     },
     "execution_count": 14,
     "metadata": {},
     "output_type": "execute_result"
    }
   ],
   "source": [
    "df_train.credit_history.value_counts()"
   ]
  },
  {
   "cell_type": "code",
   "execution_count": 15,
   "id": "a8100ce4-6968-4b7e-adc1-9c9ce1e6d60c",
   "metadata": {},
   "outputs": [
    {
     "data": {
      "text/plain": [
       "360.000    512\n",
       "180.000     44\n",
       "480.000     15\n",
       "300.000     13\n",
       "240.000      4\n",
       "84.000       4\n",
       "120.000      3\n",
       "60.000       2\n",
       "36.000       2\n",
       "12.000       1\n",
       "Name: loan_amount_term, dtype: int64"
      ]
     },
     "execution_count": 15,
     "metadata": {},
     "output_type": "execute_result"
    }
   ],
   "source": [
    "df_train.loan_amount_term.value_counts()"
   ]
  },
  {
   "cell_type": "code",
   "execution_count": 16,
   "id": "08744624-9c00-4d5b-9880-9d0c845a75d0",
   "metadata": {},
   "outputs": [
    {
     "data": {
      "text/plain": [
       "120.000    20\n",
       "110.000    17\n",
       "100.000    15\n",
       "160.000    12\n",
       "187.000    12\n",
       "           ..\n",
       "240.000     1\n",
       "214.000     1\n",
       "59.000      1\n",
       "166.000     1\n",
       "253.000     1\n",
       "Name: loanamount, Length: 203, dtype: int64"
      ]
     },
     "execution_count": 16,
     "metadata": {},
     "output_type": "execute_result"
    }
   ],
   "source": [
    "df_train.loanamount.value_counts()"
   ]
  },
  {
   "cell_type": "code",
   "execution_count": 17,
   "id": "ee471c5c-397a-4a1d-82ce-d01c38e12587",
   "metadata": {},
   "outputs": [
    {
     "data": {
      "text/plain": [
       "0      345\n",
       "1      102\n",
       "2      101\n",
       "3       51\n",
       "nan     15\n",
       "Name: dependents, dtype: int64"
      ]
     },
     "execution_count": 17,
     "metadata": {},
     "output_type": "execute_result"
    }
   ],
   "source": [
    "df_train.dependents.value_counts()"
   ]
  },
  {
   "cell_type": "code",
   "execution_count": 18,
   "id": "bda878a3-040f-4c62-afe3-05f3baa981c0",
   "metadata": {},
   "outputs": [
    {
     "data": {
      "text/plain": [
       "Male      489\n",
       "Female    112\n",
       "Name: gender, dtype: int64"
      ]
     },
     "execution_count": 18,
     "metadata": {},
     "output_type": "execute_result"
    }
   ],
   "source": [
    "df_train.gender.value_counts()"
   ]
  },
  {
   "cell_type": "code",
   "execution_count": 19,
   "id": "10de87eb-38fe-4fe4-95f2-1261e2223d1b",
   "metadata": {},
   "outputs": [
    {
     "data": {
      "text/plain": [
       "134"
      ]
     },
     "execution_count": 19,
     "metadata": {},
     "output_type": "execute_result"
    }
   ],
   "source": [
    "#Find the total number of missing values from the entire dataset\n",
    "df_train.isnull().sum().sum()"
   ]
  },
  {
   "cell_type": "markdown",
   "id": "9a9b4177-959f-478c-ba0f-a8a6d6214d59",
   "metadata": {},
   "source": [
    "#### How many missing data points do we have?"
   ]
  },
  {
   "cell_type": "markdown",
   "id": "b4664136-e2bc-44f7-b1c5-f0e186dee0c8",
   "metadata": {},
   "source": [
    "###### Ok, now we know that we do have some missing values. Let's see how many we have in each column."
   ]
  },
  {
   "cell_type": "code",
   "execution_count": 20,
   "id": "9db5952e-3f01-40a7-8728-e20fe6736bbe",
   "metadata": {},
   "outputs": [
    {
     "data": {
      "text/plain": [
       "loan_id               0\n",
       "gender               13\n",
       "married               3\n",
       "dependents            0\n",
       "education             0\n",
       "self_employed        32\n",
       "applicantincome       0\n",
       "coapplicantincome     0\n",
       "loanamount           22\n",
       "loan_amount_term     14\n",
       "credit_history       50\n",
       "property_area         0\n",
       "loan_status           0\n",
       "dtype: int64"
      ]
     },
     "execution_count": 20,
     "metadata": {},
     "output_type": "execute_result"
    }
   ],
   "source": [
    "# get the number of missing data points per column\n",
    "missing_values_count = df_train.isnull().sum()\n",
    "# look at the # of missing points in the first ten columns\n",
    "missing_values_count[0:14]"
   ]
  },
  {
   "cell_type": "code",
   "execution_count": 21,
   "id": "680c9fa8-fd74-4a48-b690-5441031d0525",
   "metadata": {},
   "outputs": [
    {
     "name": "stdout",
     "output_type": "stream",
     "text": [
      "1.68%\n"
     ]
    }
   ],
   "source": [
    "# how many total missing values do we have?\n",
    "total_cells = np.product(df_train.shape)\n",
    "total_missing = missing_values_count.sum()\n",
    "# percent of data that is missing\n",
    "percent_missing = (total_missing / total_cells) * 100\n",
    "print(f\"{percent_missing:.2f}%\")"
   ]
  },
  {
   "cell_type": "code",
   "execution_count": 22,
   "id": "b6ccb212-f63f-4afb-81a0-d90a5299c25c",
   "metadata": {},
   "outputs": [],
   "source": [
    "#replace nan with most frequent\n",
    "# from sklearn.impute import SimpleImputer\n",
    "# imputer = SimpleImputer(strategy='most_frequent')\n",
    "# imputer.fit_transform(df_train['dependents'].values.reshape(-1, 1))\n",
    "df_train['dependents'] = df_train['dependents'].apply(lambda x: x.replace('nan','0'))"
   ]
  },
  {
   "cell_type": "code",
   "execution_count": 23,
   "id": "bf81ed1f-8bfb-43a7-aad4-e0065c7f68f8",
   "metadata": {},
   "outputs": [
    {
     "data": {
      "text/plain": [
       "array(['0', '1', '2', '3'], dtype=object)"
      ]
     },
     "execution_count": 23,
     "metadata": {},
     "output_type": "execute_result"
    }
   ],
   "source": [
    "df_train['dependents'].unique()"
   ]
  },
  {
   "cell_type": "markdown",
   "id": "65a4508f-0ddd-46d6-884b-00d75c18b841",
   "metadata": {},
   "source": [
    "### Filling out missing data\n",
    "For categorical columns, we shall use mode to fillout all missing values"
   ]
  },
  {
   "cell_type": "code",
   "execution_count": 24,
   "id": "7ed6d59e-4ed6-4e50-870c-40f3cea1d55d",
   "metadata": {},
   "outputs": [
    {
     "data": {
      "text/plain": [
       "loan_id               0\n",
       "gender                0\n",
       "married               0\n",
       "dependents            0\n",
       "education             0\n",
       "self_employed         0\n",
       "applicantincome       0\n",
       "coapplicantincome     0\n",
       "loanamount           22\n",
       "loan_amount_term     14\n",
       "credit_history       50\n",
       "property_area         0\n",
       "loan_status           0\n",
       "dtype: int64"
      ]
     },
     "execution_count": 24,
     "metadata": {},
     "output_type": "execute_result"
    }
   ],
   "source": [
    "#Replace the missing values for categorical columns with mode\n",
    "df_train['gender'] = df_train['gender'].fillna(df_train['gender'].mode()[0])\n",
    "df_train['married'] = df_train['married'].fillna(df_train['married'].mode()[0])\n",
    "df_train['self_employed'] = df_train['self_employed'].fillna(df_train['self_employed'].mode()[0])\n",
    "df_train.isnull().sum()"
   ]
  },
  {
   "cell_type": "markdown",
   "id": "32ed4dd9-1c0a-462f-b974-d8ff61d82c18",
   "metadata": {},
   "source": [
    "For numerical columns, we have to first do outlier analysis. for columns with outliers we use medium of the series to fill out missing data and for data with no outliers we use mean"
   ]
  },
  {
   "cell_type": "code",
   "execution_count": 25,
   "id": "51dba0f2-d60b-4cd6-ae4c-a74e788a83e2",
   "metadata": {},
   "outputs": [],
   "source": [
    "#Checking for outliers in loan_amount_term column\n",
    "def detect_outliers(data):\n",
    "    quartile_1, quartile_3 = np.percentile(data, [25, 75])\n",
    "    iqr = quartile_3 - quartile_1\n",
    "    lower_bound = quartile_1 - (iqr * 1.5)\n",
    "    upper_bound = quartile_3 + (iqr * 1.5)\n",
    "    outliers = [x for x in data if x < lower_bound or x > upper_bound]\n",
    "    return outliers"
   ]
  },
  {
   "cell_type": "code",
   "execution_count": 26,
   "id": "9b6a1207-e36b-47eb-beee-9b6bbe26a418",
   "metadata": {},
   "outputs": [
    {
     "name": "stdout",
     "output_type": "stream",
     "text": [
      "[]\n"
     ]
    }
   ],
   "source": [
    "print(detect_outliers(df_train['loan_amount_term']))"
   ]
  },
  {
   "cell_type": "code",
   "execution_count": 27,
   "id": "c82a4737-6c80-4318-8e21-e057fd045145",
   "metadata": {},
   "outputs": [
    {
     "data": {
      "text/plain": [
       "360.000    512\n",
       "180.000     44\n",
       "480.000     15\n",
       "300.000     13\n",
       "240.000      4\n",
       "84.000       4\n",
       "120.000      3\n",
       "60.000       2\n",
       "36.000       2\n",
       "12.000       1\n",
       "Name: loan_amount_term, dtype: int64"
      ]
     },
     "execution_count": 27,
     "metadata": {},
     "output_type": "execute_result"
    }
   ],
   "source": [
    "df_train.loan_amount_term.value_counts()"
   ]
  },
  {
   "cell_type": "markdown",
   "id": "f45d76d7-bad6-4200-a3f6-d8043d5bd391",
   "metadata": {},
   "source": [
    "our function above returns no outliers, but by observation we have 480 which is isolated from the rest of the values, so not to tamper alot with data integrity we shall use medium to fill missing data"
   ]
  },
  {
   "cell_type": "code",
   "execution_count": 28,
   "id": "16a690b2-39e1-4533-98f8-97be6f32a29f",
   "metadata": {},
   "outputs": [],
   "source": [
    "#our function above returns no outliers, but by observation we have 480 which is isolated from the rest of the values, so not to tamper alot with data integrity we shall use medium to fill missing data\n",
    "df_train['loan_amount_term']= df_train['loan_amount_term'].fillna(df_train['loan_amount_term'].median())"
   ]
  },
  {
   "cell_type": "code",
   "execution_count": 29,
   "id": "6119f584-54e8-419b-8eea-132ff02e8b7c",
   "metadata": {},
   "outputs": [
    {
     "data": {
      "text/plain": [
       "loan_id               0\n",
       "gender                0\n",
       "married               0\n",
       "dependents            0\n",
       "education             0\n",
       "self_employed         0\n",
       "applicantincome       0\n",
       "coapplicantincome     0\n",
       "loanamount           22\n",
       "loan_amount_term      0\n",
       "credit_history       50\n",
       "property_area         0\n",
       "loan_status           0\n",
       "dtype: int64"
      ]
     },
     "execution_count": 29,
     "metadata": {},
     "output_type": "execute_result"
    }
   ],
   "source": [
    "df_train.isnull().sum()"
   ]
  },
  {
   "cell_type": "code",
   "execution_count": 30,
   "id": "417e04bf-c8e0-42b0-9280-ca7de981b3e9",
   "metadata": {},
   "outputs": [
    {
     "name": "stdout",
     "output_type": "stream",
     "text": [
      "[]\n"
     ]
    }
   ],
   "source": [
    "#Checking for outliers in credit_history column\n",
    "print(detect_outliers(df_train['credit_history']))"
   ]
  },
  {
   "cell_type": "code",
   "execution_count": 31,
   "id": "fba6f60f-4ffe-4829-998b-22bb10e3704f",
   "metadata": {},
   "outputs": [
    {
     "name": "stdout",
     "output_type": "stream",
     "text": [
      "[]\n"
     ]
    }
   ],
   "source": [
    "#Checking for outliers in loanamount column\n",
    "print(detect_outliers(df_train['loanamount']))"
   ]
  },
  {
   "cell_type": "markdown",
   "id": "aec97a5d-637c-4431-853a-5b1f442b31e3",
   "metadata": {},
   "source": [
    "We are using mean to fillout missing values since we see no outliers"
   ]
  },
  {
   "cell_type": "code",
   "execution_count": 32,
   "id": "f4fa848f-85c8-4c51-ad88-1837d1ea15d3",
   "metadata": {},
   "outputs": [],
   "source": [
    "#Replace the missing values for numerical columns with mean\n",
    "df_train['loanamount'] = df_train['loanamount'].fillna(df_train['loanamount'].mean())\n",
    "df_train['credit_history'] = df_train['credit_history'].fillna(df_train['credit_history'].mean())"
   ]
  },
  {
   "cell_type": "code",
   "execution_count": 33,
   "id": "dcace05d-86cf-4337-95b8-286b28831d98",
   "metadata": {},
   "outputs": [
    {
     "data": {
      "text/plain": [
       "loan_id              0\n",
       "gender               0\n",
       "married              0\n",
       "dependents           0\n",
       "education            0\n",
       "self_employed        0\n",
       "applicantincome      0\n",
       "coapplicantincome    0\n",
       "loanamount           0\n",
       "loan_amount_term     0\n",
       "credit_history       0\n",
       "property_area        0\n",
       "loan_status          0\n",
       "dtype: int64"
      ]
     },
     "execution_count": 33,
     "metadata": {},
     "output_type": "execute_result"
    }
   ],
   "source": [
    "df_train.isnull().sum()"
   ]
  },
  {
   "cell_type": "code",
   "execution_count": 34,
   "id": "1f8f20ed-2f8f-458c-9b1d-69eb988ec8bd",
   "metadata": {},
   "outputs": [
    {
     "data": {
      "text/plain": [
       "0"
      ]
     },
     "execution_count": 34,
     "metadata": {},
     "output_type": "execute_result"
    }
   ],
   "source": [
    "#Replace the missing value with '0' using 'fiilna' method\n",
    "df_train['dependents'] = df_train['dependents'].fillna(0)\n",
    "df_train['dependents'].isnull().sum()"
   ]
  },
  {
   "cell_type": "code",
   "execution_count": 35,
   "id": "806b2c30-776f-4ef8-9cce-9d66ca51b0ab",
   "metadata": {},
   "outputs": [
    {
     "data": {
      "text/plain": [
       "0      0\n",
       "1      1\n",
       "2      0\n",
       "3      0\n",
       "4      0\n",
       "      ..\n",
       "609    0\n",
       "610    3\n",
       "611    1\n",
       "612    2\n",
       "613    0\n",
       "Name: dependents, Length: 614, dtype: object"
      ]
     },
     "execution_count": 35,
     "metadata": {},
     "output_type": "execute_result"
    }
   ],
   "source": [
    "df_train['dependents']"
   ]
  },
  {
   "cell_type": "code",
   "execution_count": 36,
   "id": "504bea00-7428-42e2-80bc-a1af4e94dafc",
   "metadata": {},
   "outputs": [
    {
     "data": {
      "text/plain": [
       "<Figure size 1440x360 with 0 Axes>"
      ]
     },
     "execution_count": 36,
     "metadata": {},
     "output_type": "execute_result"
    },
    {
     "data": {
      "text/plain": [
       "<AxesSubplot:>"
      ]
     },
     "execution_count": 36,
     "metadata": {},
     "output_type": "execute_result"
    },
    {
     "data": {
      "text/plain": [
       "<function matplotlib.pyplot.plot(*args, scalex=True, scaley=True, data=None, **kwargs)>"
      ]
     },
     "execution_count": 36,
     "metadata": {},
     "output_type": "execute_result"
    },
    {
     "data": {
      "image/png": "[encoded data removed]",
      "text/plain": [
       "<Figure size 1440x360 with 1 Axes>"
      ]
     },
     "metadata": {
      "needs_background": "light"
     },
     "output_type": "display_data"
    }
   ],
   "source": [
    "#plotout columns with missing data\n",
    "plt.figure(figsize=(20,5))\n",
    "sns.heatmap(df_train.isnull(),yticklabels=False,cbar=False,cmap='viridis')\n",
    "plt.plot"
   ]
  },
  {
   "cell_type": "markdown",
   "id": "c18d3a36-8c4c-45dd-bfc7-a5f8307431e8",
   "metadata": {},
   "source": [
    "### Uniqueness Categorical Variables\n",
    "Let's have a look at categorical variables. How many unique values of these variables."
   ]
  },
  {
   "cell_type": "code",
   "execution_count": 37,
   "id": "d1076c6f-41d9-43cb-aa6e-55a588e43547",
   "metadata": {},
   "outputs": [
    {
     "name": "stdout",
     "output_type": "stream",
     "text": [
      "loan_id : 614 unique value(s)\n",
      "gender : 2 unique value(s)\n",
      "married : 2 unique value(s)\n",
      "dependents : 4 unique value(s)\n",
      "education : 2 unique value(s)\n",
      "self_employed : 2 unique value(s)\n",
      "property_area : 3 unique value(s)\n",
      "loan_status : 2 unique value(s)\n"
     ]
    }
   ],
   "source": [
    "categorical = df_train.select_dtypes(['category', 'object']).columns # getting the Uniqueness catrgorical variable\n",
    "for col in categorical:\n",
    "    print('{} : {} unique value(s)'.format(col, df_train[col].nunique()))"
   ]
  },
  {
   "cell_type": "code",
   "execution_count": 38,
   "id": "103cc48d-4852-4f5e-a1a0-e447a80f81cb",
   "metadata": {},
   "outputs": [
    {
     "data": {
      "text/plain": [
       "Index(['loan_id', 'gender', 'married', 'dependents', 'education', 'self_employed',\n",
       "       'applicantincome', 'coapplicantincome', 'loanamount', 'loan_amount_term', 'credit_history',\n",
       "       'property_area', 'loan_status'],\n",
       "      dtype='object')"
      ]
     },
     "execution_count": 38,
     "metadata": {},
     "output_type": "execute_result"
    }
   ],
   "source": [
    "df_train.columns"
   ]
  },
  {
   "cell_type": "code",
   "execution_count": 39,
   "id": "3707735c-38c5-45a5-89fc-c042ec8e7dc5",
   "metadata": {},
   "outputs": [
    {
     "data": {
      "text/plain": [
       "array(['Urban', 'Rural', 'Semiurban'], dtype=object)"
      ]
     },
     "execution_count": 39,
     "metadata": {},
     "output_type": "execute_result"
    }
   ],
   "source": [
    "df_train.property_area.unique()"
   ]
  },
  {
   "cell_type": "code",
   "execution_count": 40,
   "id": "f322ddff-964d-4486-88ff-e9c0a563ff9b",
   "metadata": {},
   "outputs": [
    {
     "data": {
      "text/html": [
       "<div>\n",
       "<style scoped>\n",
       "    .dataframe tbody tr th:only-of-type {\n",
       "        vertical-align: middle;\n",
       "    }\n",
       "\n",
       "    .dataframe tbody tr th {\n",
       "        vertical-align: top;\n",
       "    }\n",
       "\n",
       "    .dataframe thead th {\n",
       "        text-align: right;\n",
       "    }\n",
       "</style>\n",
       "<table border=\"1\" class=\"dataframe\">\n",
       "  <thead>\n",
       "    <tr style=\"text-align: right;\">\n",
       "      <th></th>\n",
       "      <th>loan_id</th>\n",
       "      <th>gender</th>\n",
       "      <th>married</th>\n",
       "      <th>dependents</th>\n",
       "      <th>education</th>\n",
       "      <th>self_employed</th>\n",
       "      <th>applicantincome</th>\n",
       "      <th>coapplicantincome</th>\n",
       "      <th>loanamount</th>\n",
       "      <th>loan_amount_term</th>\n",
       "      <th>credit_history</th>\n",
       "      <th>property_area</th>\n",
       "      <th>loan_status</th>\n",
       "    </tr>\n",
       "  </thead>\n",
       "  <tbody>\n",
       "    <tr>\n",
       "      <th>0</th>\n",
       "      <td>LP001002</td>\n",
       "      <td>Male</td>\n",
       "      <td>No</td>\n",
       "      <td>0</td>\n",
       "      <td>Graduate</td>\n",
       "      <td>No</td>\n",
       "      <td>5849</td>\n",
       "      <td>0.000</td>\n",
       "      <td>146.412</td>\n",
       "      <td>360.000</td>\n",
       "      <td>1.000</td>\n",
       "      <td>Urban</td>\n",
       "      <td>Y</td>\n",
       "    </tr>\n",
       "    <tr>\n",
       "      <th>1</th>\n",
       "      <td>LP001003</td>\n",
       "      <td>Male</td>\n",
       "      <td>Yes</td>\n",
       "      <td>1</td>\n",
       "      <td>Graduate</td>\n",
       "      <td>No</td>\n",
       "      <td>4583</td>\n",
       "      <td>1508.000</td>\n",
       "      <td>128.000</td>\n",
       "      <td>360.000</td>\n",
       "      <td>1.000</td>\n",
       "      <td>Rural</td>\n",
       "      <td>N</td>\n",
       "    </tr>\n",
       "    <tr>\n",
       "      <th>2</th>\n",
       "      <td>LP001005</td>\n",
       "      <td>Male</td>\n",
       "      <td>Yes</td>\n",
       "      <td>0</td>\n",
       "      <td>Graduate</td>\n",
       "      <td>Yes</td>\n",
       "      <td>3000</td>\n",
       "      <td>0.000</td>\n",
       "      <td>66.000</td>\n",
       "      <td>360.000</td>\n",
       "      <td>1.000</td>\n",
       "      <td>Urban</td>\n",
       "      <td>Y</td>\n",
       "    </tr>\n",
       "    <tr>\n",
       "      <th>3</th>\n",
       "      <td>LP001006</td>\n",
       "      <td>Male</td>\n",
       "      <td>Yes</td>\n",
       "      <td>0</td>\n",
       "      <td>Not Graduate</td>\n",
       "      <td>No</td>\n",
       "      <td>2583</td>\n",
       "      <td>2358.000</td>\n",
       "      <td>120.000</td>\n",
       "      <td>360.000</td>\n",
       "      <td>1.000</td>\n",
       "      <td>Urban</td>\n",
       "      <td>Y</td>\n",
       "    </tr>\n",
       "    <tr>\n",
       "      <th>4</th>\n",
       "      <td>LP001008</td>\n",
       "      <td>Male</td>\n",
       "      <td>No</td>\n",
       "      <td>0</td>\n",
       "      <td>Graduate</td>\n",
       "      <td>No</td>\n",
       "      <td>6000</td>\n",
       "      <td>0.000</td>\n",
       "      <td>141.000</td>\n",
       "      <td>360.000</td>\n",
       "      <td>1.000</td>\n",
       "      <td>Urban</td>\n",
       "      <td>Y</td>\n",
       "    </tr>\n",
       "  </tbody>\n",
       "</table>\n",
       "</div>"
      ],
      "text/plain": [
       "    loan_id gender married dependents     education self_employed  applicantincome  \\\n",
       "0  LP001002   Male      No          0      Graduate            No             5849   \n",
       "1  LP001003   Male     Yes          1      Graduate            No             4583   \n",
       "2  LP001005   Male     Yes          0      Graduate           Yes             3000   \n",
       "3  LP001006   Male     Yes          0  Not Graduate            No             2583   \n",
       "4  LP001008   Male      No          0      Graduate            No             6000   \n",
       "\n",
       "   coapplicantincome  loanamount  loan_amount_term  credit_history property_area loan_status  \n",
       "0              0.000     146.412           360.000           1.000         Urban           Y  \n",
       "1           1508.000     128.000           360.000           1.000         Rural           N  \n",
       "2              0.000      66.000           360.000           1.000         Urban           Y  \n",
       "3           2358.000     120.000           360.000           1.000         Urban           Y  \n",
       "4              0.000     141.000           360.000           1.000         Urban           Y  "
      ]
     },
     "execution_count": 40,
     "metadata": {},
     "output_type": "execute_result"
    }
   ],
   "source": [
    "df_train.head()"
   ]
  },
  {
   "cell_type": "code",
   "execution_count": 41,
   "id": "bb381008-4d48-42ce-8e90-eb18498e8a71",
   "metadata": {},
   "outputs": [
    {
     "data": {
      "text/plain": [
       "array(['Y', 'N'], dtype=object)"
      ]
     },
     "execution_count": 41,
     "metadata": {},
     "output_type": "execute_result"
    }
   ],
   "source": [
    "df_train.loan_status.unique()"
   ]
  },
  {
   "cell_type": "code",
   "execution_count": 42,
   "id": "e8ac373a-efd0-4f1d-9312-83018966815b",
   "metadata": {},
   "outputs": [
    {
     "data": {
      "text/plain": [
       "<AxesSubplot:title={'center':'applicantincome'}, xlabel='loan_status'>"
      ]
     },
     "execution_count": 42,
     "metadata": {},
     "output_type": "execute_result"
    },
    {
     "data": {
      "image/png": "[encoded data removed]",
      "text/plain": [
       "<Figure size 360x432 with 1 Axes>"
      ]
     },
     "metadata": {
      "needs_background": "light"
     },
     "output_type": "display_data"
    }
   ],
   "source": [
    "df_train.boxplot('applicantincome','loan_status',rot = 30,figsize=(5,6))\n"
   ]
  },
  {
   "cell_type": "code",
   "execution_count": 43,
   "id": "7fb347ce-88c2-4041-8fab-0071b0a0da12",
   "metadata": {},
   "outputs": [
    {
     "name": "stdout",
     "output_type": "stream",
     "text": [
      "2\n"
     ]
    }
   ],
   "source": [
    "#getting the actual number of distinct values.\n",
    "print(df_train['loan_status'].value_counts().count())"
   ]
  },
  {
   "cell_type": "code",
   "execution_count": 44,
   "id": "53d383a3-4311-4bb5-9b2c-50394b12eeb9",
   "metadata": {},
   "outputs": [
    {
     "data": {
      "text/html": [
       "<div>\n",
       "<style scoped>\n",
       "    .dataframe tbody tr th:only-of-type {\n",
       "        vertical-align: middle;\n",
       "    }\n",
       "\n",
       "    .dataframe tbody tr th {\n",
       "        vertical-align: top;\n",
       "    }\n",
       "\n",
       "    .dataframe thead th {\n",
       "        text-align: right;\n",
       "    }\n",
       "</style>\n",
       "<table border=\"1\" class=\"dataframe\">\n",
       "  <thead>\n",
       "    <tr style=\"text-align: right;\">\n",
       "      <th></th>\n",
       "      <th>loan_id</th>\n",
       "      <th>gender</th>\n",
       "      <th>married</th>\n",
       "      <th>dependents</th>\n",
       "      <th>education</th>\n",
       "      <th>self_employed</th>\n",
       "      <th>applicantincome</th>\n",
       "      <th>coapplicantincome</th>\n",
       "      <th>loanamount</th>\n",
       "      <th>loan_amount_term</th>\n",
       "      <th>credit_history</th>\n",
       "      <th>property_area</th>\n",
       "      <th>loan_status</th>\n",
       "    </tr>\n",
       "  </thead>\n",
       "  <tbody>\n",
       "    <tr>\n",
       "      <th>0</th>\n",
       "      <td>LP001002</td>\n",
       "      <td>Male</td>\n",
       "      <td>No</td>\n",
       "      <td>0</td>\n",
       "      <td>Graduate</td>\n",
       "      <td>No</td>\n",
       "      <td>5849</td>\n",
       "      <td>0.000</td>\n",
       "      <td>146.412</td>\n",
       "      <td>360.000</td>\n",
       "      <td>1.000</td>\n",
       "      <td>Urban</td>\n",
       "      <td>Y</td>\n",
       "    </tr>\n",
       "    <tr>\n",
       "      <th>1</th>\n",
       "      <td>LP001003</td>\n",
       "      <td>Male</td>\n",
       "      <td>Yes</td>\n",
       "      <td>1</td>\n",
       "      <td>Graduate</td>\n",
       "      <td>No</td>\n",
       "      <td>4583</td>\n",
       "      <td>1508.000</td>\n",
       "      <td>128.000</td>\n",
       "      <td>360.000</td>\n",
       "      <td>1.000</td>\n",
       "      <td>Rural</td>\n",
       "      <td>N</td>\n",
       "    </tr>\n",
       "    <tr>\n",
       "      <th>2</th>\n",
       "      <td>LP001005</td>\n",
       "      <td>Male</td>\n",
       "      <td>Yes</td>\n",
       "      <td>0</td>\n",
       "      <td>Graduate</td>\n",
       "      <td>Yes</td>\n",
       "      <td>3000</td>\n",
       "      <td>0.000</td>\n",
       "      <td>66.000</td>\n",
       "      <td>360.000</td>\n",
       "      <td>1.000</td>\n",
       "      <td>Urban</td>\n",
       "      <td>Y</td>\n",
       "    </tr>\n",
       "    <tr>\n",
       "      <th>3</th>\n",
       "      <td>LP001006</td>\n",
       "      <td>Male</td>\n",
       "      <td>Yes</td>\n",
       "      <td>0</td>\n",
       "      <td>Not Graduate</td>\n",
       "      <td>No</td>\n",
       "      <td>2583</td>\n",
       "      <td>2358.000</td>\n",
       "      <td>120.000</td>\n",
       "      <td>360.000</td>\n",
       "      <td>1.000</td>\n",
       "      <td>Urban</td>\n",
       "      <td>Y</td>\n",
       "    </tr>\n",
       "    <tr>\n",
       "      <th>4</th>\n",
       "      <td>LP001008</td>\n",
       "      <td>Male</td>\n",
       "      <td>No</td>\n",
       "      <td>0</td>\n",
       "      <td>Graduate</td>\n",
       "      <td>No</td>\n",
       "      <td>6000</td>\n",
       "      <td>0.000</td>\n",
       "      <td>141.000</td>\n",
       "      <td>360.000</td>\n",
       "      <td>1.000</td>\n",
       "      <td>Urban</td>\n",
       "      <td>Y</td>\n",
       "    </tr>\n",
       "  </tbody>\n",
       "</table>\n",
       "</div>"
      ],
      "text/plain": [
       "    loan_id gender married dependents     education self_employed  applicantincome  \\\n",
       "0  LP001002   Male      No          0      Graduate            No             5849   \n",
       "1  LP001003   Male     Yes          1      Graduate            No             4583   \n",
       "2  LP001005   Male     Yes          0      Graduate           Yes             3000   \n",
       "3  LP001006   Male     Yes          0  Not Graduate            No             2583   \n",
       "4  LP001008   Male      No          0      Graduate            No             6000   \n",
       "\n",
       "   coapplicantincome  loanamount  loan_amount_term  credit_history property_area loan_status  \n",
       "0              0.000     146.412           360.000           1.000         Urban           Y  \n",
       "1           1508.000     128.000           360.000           1.000         Rural           N  \n",
       "2              0.000      66.000           360.000           1.000         Urban           Y  \n",
       "3           2358.000     120.000           360.000           1.000         Urban           Y  \n",
       "4              0.000     141.000           360.000           1.000         Urban           Y  "
      ]
     },
     "execution_count": 44,
     "metadata": {},
     "output_type": "execute_result"
    }
   ],
   "source": [
    "df_train.head()"
   ]
  },
  {
   "cell_type": "markdown",
   "id": "6a771f20-39e3-468c-acaa-0cfe52f5dbd3",
   "metadata": {},
   "source": [
    "#### Encoding loan status using  scikit-learn's LabelEncode"
   ]
  },
  {
   "cell_type": "code",
   "execution_count": 45,
   "id": "82d6a3a6-48cf-4436-9762-421512ce3917",
   "metadata": {},
   "outputs": [],
   "source": [
    "from sklearn.preprocessing import LabelEncoder"
   ]
  },
  {
   "cell_type": "code",
   "execution_count": 46,
   "id": "d17a1598-485c-46d2-a6b4-7c3668a8a4a5",
   "metadata": {},
   "outputs": [],
   "source": [
    "lb_make = LabelEncoder()\n",
    "df_train['loan_status'] = lb_make.fit_transform(df_train['loan_status'])"
   ]
  },
  {
   "cell_type": "code",
   "execution_count": 47,
   "id": "b7f67dcd-4d68-458b-abaf-b7db6f02e43b",
   "metadata": {},
   "outputs": [
    {
     "data": {
      "text/plain": [
       "array([1, 0])"
      ]
     },
     "execution_count": 47,
     "metadata": {},
     "output_type": "execute_result"
    }
   ],
   "source": [
    "df_train.loan_status.unique()"
   ]
  },
  {
   "cell_type": "markdown",
   "id": "4146066d-92e3-495a-9fe2-3f95ea133dc4",
   "metadata": {},
   "source": [
    "## Data Analysis"
   ]
  },
  {
   "cell_type": "markdown",
   "id": "1388a9b1-5714-47ef-8dcd-12aa21a465ea",
   "metadata": {},
   "source": [
    "#### Descriptive Statistics"
   ]
  },
  {
   "cell_type": "code",
   "execution_count": 48,
   "id": "5b874474-3f8f-4655-a608-1591f09c5bb9",
   "metadata": {},
   "outputs": [
    {
     "data": {
      "text/html": [
       "<div>\n",
       "<style scoped>\n",
       "    .dataframe tbody tr th:only-of-type {\n",
       "        vertical-align: middle;\n",
       "    }\n",
       "\n",
       "    .dataframe tbody tr th {\n",
       "        vertical-align: top;\n",
       "    }\n",
       "\n",
       "    .dataframe thead th {\n",
       "        text-align: right;\n",
       "    }\n",
       "</style>\n",
       "<table border=\"1\" class=\"dataframe\">\n",
       "  <thead>\n",
       "    <tr style=\"text-align: right;\">\n",
       "      <th></th>\n",
       "      <th>loan_id</th>\n",
       "      <th>gender</th>\n",
       "      <th>married</th>\n",
       "      <th>dependents</th>\n",
       "      <th>education</th>\n",
       "      <th>self_employed</th>\n",
       "      <th>property_area</th>\n",
       "    </tr>\n",
       "  </thead>\n",
       "  <tbody>\n",
       "    <tr>\n",
       "      <th>count</th>\n",
       "      <td>614</td>\n",
       "      <td>614</td>\n",
       "      <td>614</td>\n",
       "      <td>614</td>\n",
       "      <td>614</td>\n",
       "      <td>614</td>\n",
       "      <td>614</td>\n",
       "    </tr>\n",
       "    <tr>\n",
       "      <th>unique</th>\n",
       "      <td>614</td>\n",
       "      <td>2</td>\n",
       "      <td>2</td>\n",
       "      <td>4</td>\n",
       "      <td>2</td>\n",
       "      <td>2</td>\n",
       "      <td>3</td>\n",
       "    </tr>\n",
       "    <tr>\n",
       "      <th>top</th>\n",
       "      <td>LP001002</td>\n",
       "      <td>Male</td>\n",
       "      <td>Yes</td>\n",
       "      <td>0</td>\n",
       "      <td>Graduate</td>\n",
       "      <td>No</td>\n",
       "      <td>Semiurban</td>\n",
       "    </tr>\n",
       "    <tr>\n",
       "      <th>freq</th>\n",
       "      <td>1</td>\n",
       "      <td>502</td>\n",
       "      <td>401</td>\n",
       "      <td>360</td>\n",
       "      <td>480</td>\n",
       "      <td>532</td>\n",
       "      <td>233</td>\n",
       "    </tr>\n",
       "  </tbody>\n",
       "</table>\n",
       "</div>"
      ],
      "text/plain": [
       "         loan_id gender married dependents education self_employed property_area\n",
       "count        614    614     614        614       614           614           614\n",
       "unique       614      2       2          4         2             2             3\n",
       "top     LP001002   Male     Yes          0  Graduate            No     Semiurban\n",
       "freq           1    502     401        360       480           532           233"
      ]
     },
     "execution_count": 48,
     "metadata": {},
     "output_type": "execute_result"
    }
   ],
   "source": [
    "df_train.describe(exclude=[np.number])"
   ]
  },
  {
   "cell_type": "code",
   "execution_count": 49,
   "id": "4b6c9ed5-42d9-4822-922f-5ea746f0c1fd",
   "metadata": {},
   "outputs": [
    {
     "data": {
      "text/html": [
       "<div>\n",
       "<style scoped>\n",
       "    .dataframe tbody tr th:only-of-type {\n",
       "        vertical-align: middle;\n",
       "    }\n",
       "\n",
       "    .dataframe tbody tr th {\n",
       "        vertical-align: top;\n",
       "    }\n",
       "\n",
       "    .dataframe thead th {\n",
       "        text-align: right;\n",
       "    }\n",
       "</style>\n",
       "<table border=\"1\" class=\"dataframe\">\n",
       "  <thead>\n",
       "    <tr style=\"text-align: right;\">\n",
       "      <th></th>\n",
       "      <th>applicantincome</th>\n",
       "      <th>coapplicantincome</th>\n",
       "      <th>loanamount</th>\n",
       "      <th>loan_amount_term</th>\n",
       "      <th>credit_history</th>\n",
       "      <th>loan_status</th>\n",
       "    </tr>\n",
       "  </thead>\n",
       "  <tbody>\n",
       "    <tr>\n",
       "      <th>count</th>\n",
       "      <td>614.000</td>\n",
       "      <td>614.000</td>\n",
       "      <td>614.000</td>\n",
       "      <td>614.000</td>\n",
       "      <td>614.000</td>\n",
       "      <td>614.000</td>\n",
       "    </tr>\n",
       "    <tr>\n",
       "      <th>mean</th>\n",
       "      <td>5403.459</td>\n",
       "      <td>1621.246</td>\n",
       "      <td>146.412</td>\n",
       "      <td>342.410</td>\n",
       "      <td>0.842</td>\n",
       "      <td>0.687</td>\n",
       "    </tr>\n",
       "    <tr>\n",
       "      <th>std</th>\n",
       "      <td>6109.042</td>\n",
       "      <td>2926.248</td>\n",
       "      <td>84.037</td>\n",
       "      <td>64.429</td>\n",
       "      <td>0.350</td>\n",
       "      <td>0.464</td>\n",
       "    </tr>\n",
       "    <tr>\n",
       "      <th>min</th>\n",
       "      <td>150.000</td>\n",
       "      <td>0.000</td>\n",
       "      <td>9.000</td>\n",
       "      <td>12.000</td>\n",
       "      <td>0.000</td>\n",
       "      <td>0.000</td>\n",
       "    </tr>\n",
       "    <tr>\n",
       "      <th>25%</th>\n",
       "      <td>2877.500</td>\n",
       "      <td>0.000</td>\n",
       "      <td>100.250</td>\n",
       "      <td>360.000</td>\n",
       "      <td>1.000</td>\n",
       "      <td>0.000</td>\n",
       "    </tr>\n",
       "    <tr>\n",
       "      <th>50%</th>\n",
       "      <td>3812.500</td>\n",
       "      <td>1188.500</td>\n",
       "      <td>129.000</td>\n",
       "      <td>360.000</td>\n",
       "      <td>1.000</td>\n",
       "      <td>1.000</td>\n",
       "    </tr>\n",
       "    <tr>\n",
       "      <th>75%</th>\n",
       "      <td>5795.000</td>\n",
       "      <td>2297.250</td>\n",
       "      <td>164.750</td>\n",
       "      <td>360.000</td>\n",
       "      <td>1.000</td>\n",
       "      <td>1.000</td>\n",
       "    </tr>\n",
       "    <tr>\n",
       "      <th>max</th>\n",
       "      <td>81000.000</td>\n",
       "      <td>41667.000</td>\n",
       "      <td>700.000</td>\n",
       "      <td>480.000</td>\n",
       "      <td>1.000</td>\n",
       "      <td>1.000</td>\n",
       "    </tr>\n",
       "  </tbody>\n",
       "</table>\n",
       "</div>"
      ],
      "text/plain": [
       "       applicantincome  coapplicantincome  loanamount  loan_amount_term  credit_history  \\\n",
       "count          614.000            614.000     614.000           614.000         614.000   \n",
       "mean          5403.459           1621.246     146.412           342.410           0.842   \n",
       "std           6109.042           2926.248      84.037            64.429           0.350   \n",
       "min            150.000              0.000       9.000            12.000           0.000   \n",
       "25%           2877.500              0.000     100.250           360.000           1.000   \n",
       "50%           3812.500           1188.500     129.000           360.000           1.000   \n",
       "75%           5795.000           2297.250     164.750           360.000           1.000   \n",
       "max          81000.000          41667.000     700.000           480.000           1.000   \n",
       "\n",
       "       loan_status  \n",
       "count      614.000  \n",
       "mean         0.687  \n",
       "std          0.464  \n",
       "min          0.000  \n",
       "25%          0.000  \n",
       "50%          1.000  \n",
       "75%          1.000  \n",
       "max          1.000  "
      ]
     },
     "execution_count": 49,
     "metadata": {},
     "output_type": "execute_result"
    }
   ],
   "source": [
    "df_train.describe(include=[np.number])"
   ]
  },
  {
   "cell_type": "code",
   "execution_count": 50,
   "id": "22d5de52-514a-42af-b0da-fc0737f5276f",
   "metadata": {},
   "outputs": [
    {
     "data": {
      "text/html": [
       "<div>\n",
       "<style scoped>\n",
       "    .dataframe tbody tr th:only-of-type {\n",
       "        vertical-align: middle;\n",
       "    }\n",
       "\n",
       "    .dataframe tbody tr th {\n",
       "        vertical-align: top;\n",
       "    }\n",
       "\n",
       "    .dataframe thead th {\n",
       "        text-align: right;\n",
       "    }\n",
       "</style>\n",
       "<table border=\"1\" class=\"dataframe\">\n",
       "  <thead>\n",
       "    <tr style=\"text-align: right;\">\n",
       "      <th>education</th>\n",
       "      <th>Graduate</th>\n",
       "      <th>Not Graduate</th>\n",
       "    </tr>\n",
       "  </thead>\n",
       "  <tbody>\n",
       "    <tr>\n",
       "      <th>min</th>\n",
       "      <td>150.000</td>\n",
       "      <td>210.000</td>\n",
       "    </tr>\n",
       "    <tr>\n",
       "      <th>max</th>\n",
       "      <td>81000.000</td>\n",
       "      <td>18165.000</td>\n",
       "    </tr>\n",
       "    <tr>\n",
       "      <th>mean</th>\n",
       "      <td>5857.433</td>\n",
       "      <td>3777.284</td>\n",
       "    </tr>\n",
       "  </tbody>\n",
       "</table>\n",
       "</div>"
      ],
      "text/plain": [
       "education  Graduate  Not Graduate\n",
       "min         150.000       210.000\n",
       "max       81000.000     18165.000\n",
       "mean       5857.433      3777.284"
      ]
     },
     "execution_count": 50,
     "metadata": {},
     "output_type": "execute_result"
    }
   ],
   "source": [
    "# Grouping education by its income in min, max, and mean\n",
    "df_train.groupby(\"education\")[\"applicantincome\"].agg([\"min\", \"max\", \"mean\"]).sort_values(by=\"max\", ascending=False).T"
   ]
  },
  {
   "cell_type": "code",
   "execution_count": 51,
   "id": "0e5ba8fc-ea7a-40bb-ab4a-5f19c2bf78f1",
   "metadata": {},
   "outputs": [
    {
     "data": {
      "text/html": [
       "<div>\n",
       "<style scoped>\n",
       "    .dataframe tbody tr th:only-of-type {\n",
       "        vertical-align: middle;\n",
       "    }\n",
       "\n",
       "    .dataframe tbody tr th {\n",
       "        vertical-align: top;\n",
       "    }\n",
       "\n",
       "    .dataframe thead th {\n",
       "        text-align: right;\n",
       "    }\n",
       "</style>\n",
       "<table border=\"1\" class=\"dataframe\">\n",
       "  <thead>\n",
       "    <tr style=\"text-align: right;\">\n",
       "      <th>property_area</th>\n",
       "      <th>Rural</th>\n",
       "      <th>Urban</th>\n",
       "      <th>Semiurban</th>\n",
       "    </tr>\n",
       "  </thead>\n",
       "  <tbody>\n",
       "    <tr>\n",
       "      <th>min</th>\n",
       "      <td>150.000</td>\n",
       "      <td>416.000</td>\n",
       "      <td>210.000</td>\n",
       "    </tr>\n",
       "    <tr>\n",
       "      <th>max</th>\n",
       "      <td>81000.000</td>\n",
       "      <td>63337.000</td>\n",
       "      <td>39999.000</td>\n",
       "    </tr>\n",
       "    <tr>\n",
       "      <th>mean</th>\n",
       "      <td>5554.084</td>\n",
       "      <td>5398.248</td>\n",
       "      <td>5292.262</td>\n",
       "    </tr>\n",
       "  </tbody>\n",
       "</table>\n",
       "</div>"
      ],
      "text/plain": [
       "property_area     Rural     Urban  Semiurban\n",
       "min             150.000   416.000    210.000\n",
       "max           81000.000 63337.000  39999.000\n",
       "mean           5554.084  5398.248   5292.262"
      ]
     },
     "execution_count": 51,
     "metadata": {},
     "output_type": "execute_result"
    }
   ],
   "source": [
    "# Grouping propertyarea by its income in min, max, and mean\n",
    "df_train.groupby(\"property_area\")[\"applicantincome\"].agg([\"min\", \"max\", \"mean\"]).sort_values(by=\"max\", ascending=False).T"
   ]
  },
  {
   "cell_type": "code",
   "execution_count": 52,
   "id": "39824efe-187d-4065-b8a4-79a4e041d2ab",
   "metadata": {},
   "outputs": [
    {
     "data": {
      "text/html": [
       "<div>\n",
       "<style scoped>\n",
       "    .dataframe tbody tr th:only-of-type {\n",
       "        vertical-align: middle;\n",
       "    }\n",
       "\n",
       "    .dataframe tbody tr th {\n",
       "        vertical-align: top;\n",
       "    }\n",
       "\n",
       "    .dataframe thead th {\n",
       "        text-align: right;\n",
       "    }\n",
       "</style>\n",
       "<table border=\"1\" class=\"dataframe\">\n",
       "  <thead>\n",
       "    <tr style=\"text-align: right;\">\n",
       "      <th>gender</th>\n",
       "      <th>Male</th>\n",
       "      <th>Female</th>\n",
       "    </tr>\n",
       "  </thead>\n",
       "  <tbody>\n",
       "    <tr>\n",
       "      <th>min</th>\n",
       "      <td>150.000</td>\n",
       "      <td>210.000</td>\n",
       "    </tr>\n",
       "    <tr>\n",
       "      <th>max</th>\n",
       "      <td>81000.000</td>\n",
       "      <td>19484.000</td>\n",
       "    </tr>\n",
       "    <tr>\n",
       "      <th>mean</th>\n",
       "      <td>5573.018</td>\n",
       "      <td>4643.473</td>\n",
       "    </tr>\n",
       "  </tbody>\n",
       "</table>\n",
       "</div>"
      ],
      "text/plain": [
       "gender      Male    Female\n",
       "min      150.000   210.000\n",
       "max    81000.000 19484.000\n",
       "mean    5573.018  4643.473"
      ]
     },
     "execution_count": 52,
     "metadata": {},
     "output_type": "execute_result"
    }
   ],
   "source": [
    "df_train.groupby(\"gender\")[\"applicantincome\"].agg([\"min\", \"max\", \"mean\"]).sort_values(by=\"max\", ascending=False).T"
   ]
  },
  {
   "cell_type": "code",
   "execution_count": 53,
   "id": "3906a714-a76f-4dce-a5de-1c389da9cf70",
   "metadata": {},
   "outputs": [
    {
     "data": {
      "text/html": [
       "<div>\n",
       "<style scoped>\n",
       "    .dataframe tbody tr th:only-of-type {\n",
       "        vertical-align: middle;\n",
       "    }\n",
       "\n",
       "    .dataframe tbody tr th {\n",
       "        vertical-align: top;\n",
       "    }\n",
       "\n",
       "    .dataframe thead th {\n",
       "        text-align: right;\n",
       "    }\n",
       "</style>\n",
       "<table border=\"1\" class=\"dataframe\">\n",
       "  <thead>\n",
       "    <tr style=\"text-align: right;\">\n",
       "      <th>gender</th>\n",
       "      <th>Male</th>\n",
       "      <th>Female</th>\n",
       "    </tr>\n",
       "  </thead>\n",
       "  <tbody>\n",
       "    <tr>\n",
       "      <th>loan_status</th>\n",
       "      <td>69.124</td>\n",
       "      <td>66.964</td>\n",
       "    </tr>\n",
       "  </tbody>\n",
       "</table>\n",
       "</div>"
      ],
      "text/plain": [
       "gender        Male  Female\n",
       "loan_status 69.124  66.964"
      ]
     },
     "execution_count": 53,
     "metadata": {},
     "output_type": "execute_result"
    }
   ],
   "source": [
    "# The average loan percentage of each gender\n",
    "df_train.groupby([\"gender\"]).loan_status.apply(lambda x: (x.sum() / x.size) * 100).sort_values(ascending=False).to_frame().T"
   ]
  },
  {
   "cell_type": "code",
   "execution_count": 54,
   "id": "2c5545c2-6835-480d-9202-81659d041760",
   "metadata": {},
   "outputs": [
    {
     "data": {
      "text/html": [
       "<div>\n",
       "<style scoped>\n",
       "    .dataframe tbody tr th:only-of-type {\n",
       "        vertical-align: middle;\n",
       "    }\n",
       "\n",
       "    .dataframe tbody tr th {\n",
       "        vertical-align: top;\n",
       "    }\n",
       "\n",
       "    .dataframe thead th {\n",
       "        text-align: right;\n",
       "    }\n",
       "</style>\n",
       "<table border=\"1\" class=\"dataframe\">\n",
       "  <thead>\n",
       "    <tr style=\"text-align: right;\">\n",
       "      <th>dependents</th>\n",
       "      <th>2</th>\n",
       "      <th>0</th>\n",
       "      <th>1</th>\n",
       "      <th>3</th>\n",
       "    </tr>\n",
       "  </thead>\n",
       "  <tbody>\n",
       "    <tr>\n",
       "      <th>loan_status</th>\n",
       "      <td>75.248</td>\n",
       "      <td>68.611</td>\n",
       "      <td>64.706</td>\n",
       "      <td>64.706</td>\n",
       "    </tr>\n",
       "  </tbody>\n",
       "</table>\n",
       "</div>"
      ],
      "text/plain": [
       "dependents       2      0      1      3\n",
       "loan_status 75.248 68.611 64.706 64.706"
      ]
     },
     "execution_count": 54,
     "metadata": {},
     "output_type": "execute_result"
    }
   ],
   "source": [
    "# The average loan percentage of each number of dependants\n",
    "df_train.groupby([\"dependents\"]).loan_status.apply(lambda x: (x.sum() / x.size) * 100).sort_values(ascending=False).to_frame().T"
   ]
  },
  {
   "cell_type": "markdown",
   "id": "a8c9f538-22da-41b7-8483-56bc194eadec",
   "metadata": {},
   "source": [
    "## Univariate Analysis"
   ]
  },
  {
   "cell_type": "markdown",
   "id": "678d5cb1-9cc7-4e40-9e6a-bd2923f87667",
   "metadata": {},
   "source": [
    "#### Chebychev's Theorem\n",
    "Chebyshev's Theorem estimates the minimum proportion of observations\n",
    "that fall within a specified number of standard deviations from the mean.\n",
    "This theorem applies to a broad range of probability distributions.\n",
    "Chebyshev's Theorem is also known as Chebyshev's Inequality\n",
    "###### About skewness:\n",
    "As a general rule of thumb: If skewness is less than −1 or greater than 1 , the distribution is highly skewed.\n",
    "If skewness is between −1 and −0.5 or between 0.5 and 1 , the distribution is moderately skewed.\n",
    "If skewness is between −0.5 and 0.5 , the distribution is approximately symmetric.\n",
    "#### About kurtosis:\n",
    "For kurtosis, the general guideline is that if the number is greater than +1 , the distribution is too peaked.\n",
    "Likewise, a kurtosis of less than −1 indicates a distribution that is too flat.\n",
    "Distributions exhibiting skewness and/or kurtosis that exceed these guidelines are considered non-normal."
   ]
  },
  {
   "cell_type": "markdown",
   "id": "a50ccab2-20db-429c-84ad-daa1f7c8afad",
   "metadata": {},
   "source": [
    "#### Numerical Column"
   ]
  },
  {
   "cell_type": "code",
   "execution_count": 55,
   "id": "ec8f265c-fb88-4a88-8375-ef0c8f923441",
   "metadata": {},
   "outputs": [
    {
     "data": {
      "image/png": "[encoded data removed]",
      "text/plain": [
       "<Figure size 1440x576 with 2 Axes>"
      ]
     },
     "metadata": {},
     "output_type": "display_data"
    }
   ],
   "source": [
    "numerical_plotting(data=df_train, col=\"applicantincome\", \n",
    "                   title=\"Customer applicantIncome Distribution\", \n",
    "                   symb=\" \", ylabel=\"Density\", color=\"red\");"
   ]
  },
  {
   "cell_type": "code",
   "execution_count": 56,
   "id": "4ff82643-099f-47f9-a9e0-18c074b60adf",
   "metadata": {},
   "outputs": [
    {
     "name": "stdout",
     "output_type": "stream",
     "text": [
      "-------------------- Interpretation of Income --------------------\n",
      "first calc: -6814.5\n",
      "second calc: 17621.5\n",
      "at least 75% customer income is lies between 0 and 17621.5 Shillings\n",
      "----------------------------------------\n"
     ]
    }
   ],
   "source": [
    "chebychev(df_train.applicantincome, title=\"Income\", \n",
    "          interpret=f\"at least 75% customer income is lies between 0 and 17621.5 Shillings\")"
   ]
  },
  {
   "cell_type": "code",
   "execution_count": 57,
   "id": "9eb23636-420a-4317-a581-9157a63fee0d",
   "metadata": {},
   "outputs": [
    {
     "name": "stdout",
     "output_type": "stream",
     "text": [
      "-------------------- Skew & Kurtosis Income --------------------\n",
      "Skewness: 6.539513113994624\n",
      "-----------------------------------\n",
      "Kurtosis: 60.54067593369114\n",
      "The distribution is too peaked\n",
      "-----------------------------------\n"
     ]
    }
   ],
   "source": [
    "skew_kurtosis(df_train.applicantincome, \"Skew & Kurtosis Income\")"
   ]
  },
  {
   "cell_type": "code",
   "execution_count": 58,
   "id": "631b3fc2-174b-4edc-b208-20c4e47ab946",
   "metadata": {},
   "outputs": [
    {
     "data": {
      "image/png": "[encoded data removed]",
      "text/plain": [
       "<Figure size 1440x576 with 2 Axes>"
      ]
     },
     "metadata": {},
     "output_type": "display_data"
    }
   ],
   "source": [
    "numerical_plotting(data=df_train, col=\"loanamount\", \n",
    "                   title=\"Loan amount Distribution\", \n",
    "                   symb=\" \", ylabel=\"Density\", color=\"salmon\");"
   ]
  },
  {
   "cell_type": "code",
   "execution_count": 59,
   "id": "5660513a-b8dd-4162-8955-00697b0a5249",
   "metadata": {},
   "outputs": [
    {
     "name": "stdout",
     "output_type": "stream",
     "text": [
      "-------------------- Interpretation of LoanAmount --------------------\n",
      "first calc: -21.6\n",
      "second calc: 314.4\n",
      "at least 75% customer age is lies between 0 and 314\n",
      "----------------------------------------\n"
     ]
    }
   ],
   "source": [
    "chebychev(df_train.loanamount, title=\"LoanAmount\", \n",
    "          interpret=f\"at least 75% customer age is lies between 0 and 314\")"
   ]
  },
  {
   "cell_type": "code",
   "execution_count": 60,
   "id": "ede3d617-c046-496f-acda-e9e5cfaf80ae",
   "metadata": {},
   "outputs": [
    {
     "name": "stdout",
     "output_type": "stream",
     "text": [
      "-------------------- Skew & Kurtosis loan amount --------------------\n",
      "Skewness: 2.7266011441052984\n",
      "-----------------------------------\n",
      "Kurtosis: 10.896456468091559\n",
      "The distribution is too peaked\n",
      "-----------------------------------\n"
     ]
    }
   ],
   "source": [
    "skew_kurtosis(df_train.loanamount, \"Skew & Kurtosis loan amount\")"
   ]
  },
  {
   "cell_type": "code",
   "execution_count": 61,
   "id": "4b2966df-771e-4d16-9c4b-6f407b16d71d",
   "metadata": {},
   "outputs": [
    {
     "data": {
      "image/png": "[encoded data removed]",
      "text/plain": [
       "<Figure size 1440x576 with 2 Axes>"
      ]
     },
     "metadata": {},
     "output_type": "display_data"
    }
   ],
   "source": [
    "numerical_plotting(data=df_train, col=\"credit_history\", \n",
    "                   title=\"Customer credit_history Distribution\", \n",
    "                   symb=\" \", ylabel=\"Density\", color=\"gray\");"
   ]
  },
  {
   "cell_type": "code",
   "execution_count": 62,
   "id": "da145e03-b686-40e4-89f1-46da1de0e2b8",
   "metadata": {},
   "outputs": [
    {
     "name": "stdout",
     "output_type": "stream",
     "text": [
      "-------------------- Interpretation of credit_history --------------------\n",
      "first calc: 0.2\n",
      "second calc: 1.4\n",
      "at least 75% customer have 0 to 1.0 credit history\n",
      "----------------------------------------\n"
     ]
    }
   ],
   "source": [
    "chebychev(df_train.credit_history, title=\"credit_history\", \n",
    "          interpret=f\"at least 75% customer have 0 to 1.0 credit history\")"
   ]
  },
  {
   "cell_type": "code",
   "execution_count": 63,
   "id": "907fc183-f905-4a10-8048-a6c019abcc95",
   "metadata": {},
   "outputs": [
    {
     "name": "stdout",
     "output_type": "stream",
     "text": [
      "-------------------- Skew & Kurtosis credit_history --------------------\n",
      "Skewness: -1.963600485467902\n",
      "-----------------------------------\n",
      "Kurtosis: 1.9511593673663867\n",
      "The distribution is too peaked\n",
      "-----------------------------------\n"
     ]
    }
   ],
   "source": [
    "skew_kurtosis(df_train.credit_history, \"Skew & Kurtosis credit_history\")"
   ]
  },
  {
   "cell_type": "code",
   "execution_count": 64,
   "id": "6a63ce1e-9a10-4c44-bea0-37dbfe978def",
   "metadata": {},
   "outputs": [
    {
     "data": {
      "image/png": "[encoded data removed]",
      "text/plain": [
       "<Figure size 1440x576 with 2 Axes>"
      ]
     },
     "metadata": {},
     "output_type": "display_data"
    }
   ],
   "source": [
    "numerical_plotting(data=df_train, col=\"loan_amount_term\", \n",
    "                   title=\"Customer loan_amount_term Distribution\", \n",
    "                   symb=\" \", ylabel=\"Density\", color=\"gray\");"
   ]
  },
  {
   "cell_type": "code",
   "execution_count": 65,
   "id": "95228e97-c949-45b7-81f1-3929f4743437",
   "metadata": {},
   "outputs": [
    {
     "name": "stdout",
     "output_type": "stream",
     "text": [
      "-------------------- Interpretation of loan_amount_term --------------------\n",
      "first calc: 213.6\n",
      "second calc: 471.2\n",
      "at least 75% customer have 0 to 500 loan amount term\n",
      "----------------------------------------\n"
     ]
    }
   ],
   "source": [
    "chebychev(df_train.loan_amount_term, title=\"loan_amount_term\", \n",
    "          interpret=f\"at least 75% customer have 0 to 500 loan amount term\")"
   ]
  },
  {
   "cell_type": "code",
   "execution_count": 66,
   "id": "b35a7663-c160-481c-b463-a8ae45ac9f78",
   "metadata": {},
   "outputs": [
    {
     "name": "stdout",
     "output_type": "stream",
     "text": [
      "-------------------- Skew & Kurtosis loan_amount_term --------------------\n",
      "Skewness: -2.402112256389039\n",
      "-----------------------------------\n",
      "Kurtosis: 6.924993328965204\n",
      "The distribution is too peaked\n",
      "-----------------------------------\n"
     ]
    }
   ],
   "source": [
    "skew_kurtosis(df_train.loan_amount_term, \"Skew & Kurtosis loan_amount_term\")"
   ]
  },
  {
   "cell_type": "markdown",
   "id": "0d41b5d9-4e14-42b3-8e6d-b620c759ec21",
   "metadata": {},
   "source": [
    "#### Categorical Column"
   ]
  },
  {
   "cell_type": "code",
   "execution_count": 67,
   "id": "f40d178b-a29b-4ac4-bbd8-80106bb9f191",
   "metadata": {},
   "outputs": [
    {
     "data": {
      "image/png": "[encoded data removed]",
      "text/plain": [
       "<Figure size 1728x576 with 2 Axes>"
      ]
     },
     "metadata": {},
     "output_type": "display_data"
    }
   ],
   "source": [
    "education = df_train[\"education\"].value_counts()\n",
    "\n",
    "count_pie_plot(datapie=education,\n",
    "               datacount=df_train,\n",
    "               colcount=\"education\",\n",
    "               colpiey=education.values,\n",
    "               text1=\"Education\",\n",
    "               pielabels=[\"Graduate\", \"Not Graduate\"],\n",
    "               text2=\"Are you a Graduate or Not Graduate?\",\n",
    "               piecomap=[\"#001253\", \"#FF5858\"],\n",
    "               countcomap=[\"#001253\", \"#FF5858\"],\n",
    "               xlabel=\"education\",\n",
    "               piefs=15,\n",
    "               yplus=5000,\n",
    "               ylabel=\"Count of Observations\",\n",
    "               xticklabel=[\"Graduate\", \"Not Graduate\"],\n",
    "               yticklabel=list(np.arange(0, 260000, 50000)),\n",
    "               ystart=0,\n",
    "               yend=250000);"
   ]
  },
  {
   "cell_type": "code",
   "execution_count": 68,
   "id": "cabfddf3-628f-4b88-98e8-9d17201c7baf",
   "metadata": {},
   "outputs": [
    {
     "data": {
      "image/png": "[encoded data removed]",
      "text/plain": [
       "<Figure size 1728x576 with 2 Axes>"
      ]
     },
     "metadata": {},
     "output_type": "display_data"
    }
   ],
   "source": [
    "property_area = df_train[\"property_area\"].value_counts()\n",
    "\n",
    "count_pie_plot(datapie=property_area,\n",
    "               datacount=df_train,\n",
    "               colcount=\"property_area\",\n",
    "               colpiey=property_area.values,\n",
    "               text1=\"property_area\",\n",
    "               pielabels=[\"urban\", \"rural\", \"semiurban\"],\n",
    "               text2=\"What customer house status?\",\n",
    "               piecomap=[\"#E0144C\", \"#3AB0FF\", \"#FF5858\"],\n",
    "               countcomap=[\"#E0144C\", \"#FF5858\", \"#3AB0FF\"],\n",
    "               xlabel=\"property_area\",\n",
    "               piefs=10,\n",
    "               yplus=5000,\n",
    "               pctdistance=0.7,\n",
    "               ylabel=\"Count of Observations\",\n",
    "               xticklabel=[\"urban\", \"rural\", \"semiurban\"],\n",
    "               yticklabel=list(np.arange(0, 260000, 50000)),\n",
    "               ystart=0,\n",
    "               yend=250000);"
   ]
  },
  {
   "cell_type": "markdown",
   "id": "9869b9a3-d115-44b9-b57d-5547a266c2c0",
   "metadata": {},
   "source": [
    "## Bivariate Analysis"
   ]
  },
  {
   "cell_type": "markdown",
   "id": "030fa89d-34dc-40b9-8166-237cda0757f7",
   "metadata": {},
   "source": [
    "### What is Correlation?"
   ]
  },
  {
   "cell_type": "markdown",
   "id": "5a8df9eb-ab3a-4f4b-8dff-2f08ec8ab8b8",
   "metadata": {},
   "source": [
    "Correlation is a statistical measure (expressed as a number) that describes the size and direction of a relationship between two or more variables. A correlation between variables, however, does not automatically mean that the change in one variable is the cause of the change in the values of the other variable.\n",
    "\n",
    "Variables within a dataset can be related for lots of reasons.\n",
    "\n",
    "For example:\n",
    "\n",
    "One variable could cause or depend on the values of another variable. One variable could be lightly associated with another variable. Two variables could depend on a third unknown variable. It can be useful in data analysis and modeling to better understand the relationships between variables. The statistical relationship between two variables is referred to as their correlation.\n",
    "\n",
    "A correlation could be positive, meaning both variables move in the same direction, or negative, meaning that when one variable’s value increases, the other variables’ values decrease. Correlation can also be neutral or zero, meaning that the variables are unrelated.\n",
    "\n",
    "Positive Correlation: both variables change in the same direction. Neutral Correlation: No relationship in the change of the variables. Negative Correlation: variables change in opposite directions. The performance of some algorithms can deteriorate if two or more variables are tightly related, called multicollinearity. An example is linear regression, where one of the offending correlated variables should be removed in order to improve the skill of the model.\n",
    "\n",
    "We may also be interested in the correlation between input variables with the output variable in order provide insight into which variables may or may not be relevant as input for developing a model.\n",
    "\n",
    "The structure of the relationship may be known, e.g. it may be linear, or we may have no idea whether a relationship exists between two variables or what structure it may take. Depending what is known about the relationship and the distribution of the variables, different correlation scores can be calculated.\n",
    "\n",
    "Pearson’s Correlation\n",
    "\n",
    "r=∑(xi−x¯)(yi−y¯)∑(xi−x¯)2∑(yi−y¯)2−−−−−−−−−−−−−−−−−−√\n",
    "\n",
    "The Pearson correlation coefficient (named for Karl Pearson) can be used to summarize the strength of the linear relationship between two data samples.\n",
    "\n",
    "The Pearson’s correlation coefficient is calculated as the covariance of the two variables divided by the product of the standard deviation of each data sample. It is the normalization of the covariance between the two variables to give an interpretable score.\n",
    "\n",
    "Pearson's correlation coefficient = covariance(X, Y) / (stdv(X) * stdv(Y))\n",
    "\n",
    "The use of mean and standard deviation in the calculation suggests the need for the two data samples to have a Gaussian or Gaussian-like distribution.\n",
    "\n",
    "The result of the calculation, the correlation coefficient can be interpreted to understand the relationship.\n",
    "\n",
    "The coefficient returns a value between −1 and 1 that represents the limits of correlation from a full negative correlation to a full positive correlation. A value of 0 means no correlation. The value must be interpreted, where often a value below −0.5 or above 0.5 indicates a notable correlation, and values below those values suggests a less notable correlation.\n",
    "\n",
    "The pearsonr() SciPy function can be used to calculate the Pearson’s correlation coefficient between two data samples with the same length."
   ]
  },
  {
   "cell_type": "markdown",
   "id": "41dd95a7-80a9-4814-ad30-7c5e870234e9",
   "metadata": {},
   "source": [
    "#### Nonparametric Rank Correlation"
   ]
  },
  {
   "cell_type": "markdown",
   "id": "2eaa11a9-4e3b-4d9b-96dc-bd1d478fb908",
   "metadata": {},
   "source": [
    "Correlation refers to the association between the observed values of two variables.\n",
    "\n",
    "The variables may have a positive association, meaning that as the values for one variable increase, so do the values of the other variable. The association may also be negative, meaning that as the values of one variable increase, the values of the others decrease. Finally, the association may be neutral, meaning that the variables are not associated.\n",
    "\n",
    "Correlation quantifies this association, often as a measure between the values −1 to 1 for perfectly negatively correlated and perfectly positively correlated. The calculated correlation is referred to as the “correlation coefficient.” This correlation coefficient can then be interpreted to describe the measures.\n",
    "\n",
    "See the table below to help with interpretation the correlation coefficient.\n",
    "\n",
    "Table\n",
    "\n",
    "Correlation Coefficient for a Direct Relationship Correlation Coefficient for an inderect Relationship Relationship Strength of the Variables 0.0 0.0 None/trivial 0.1 −0.1 Weak/small 0.3 −0.3 Moderate/medium 0.5 −0.5 Strong/large 1.0 −1.0 Perfect The correlation between two variables that each have a Gaussian distribution can be calculated using standard methods such as the Pearson’s correlation. This procedure cannot be used for data that does not have a Gaussian distribution. Instead, rank correlation methods must be used.\n",
    "\n",
    "Rank correlation refers to methods that quantify the association between variables using the ordinal relationship between the values rather than the specific values. Ordinal data is data that has label values and has an order or rank relationship; for example: ‘low‘, ‘medium‘, and ‘high‘.\n",
    "\n",
    "Rank correlation can be calculated for real-valued variables. This is done by first converting the values for each variable into rank data. This is where the values are ordered and assigned an integer rank value. Rank correlation coefficients can then be calculated in order to quantify the association between the two ranked variables.\n",
    "\n",
    "Because no distribution for the values is assumed, rank correlation methods are referred to as distribution-free correlation or nonparametric correlation. Interestingly, rank correlation measures are often used as the basis for other statistical hypothesis tests, such as determining whether two samples were likely drawn from the same (or different) population distributions.\n",
    "\n",
    "Rank correlation methods are often named after the researcher or researchers that developed the method. Four examples of rank correlation methods are as follows:\n",
    "\n",
    "Spearman’s Rank Correlation. Kendall’s Rank Correlation. Goodman and Kruskal’s Rank Correlation. Somers’ Rank Correlation. In the following sections, we will take a closer look at two of the more common rank correlation methods: Spearman’s\n",
    "\n",
    "Spearman’s Rank Correlation\n",
    "\n",
    "p=1−6∑d2in(n2−1)\n",
    "\n",
    "Spearman’s rank correlation is named for Charles Spearman.\n",
    "\n",
    "It may also be called Spearman’s correlation coefficient and is denoted by the lowercase greek letter rho (p). As such, it may be referred to as Spearman’s rho.\n",
    "\n",
    "This statistical method quantifies the degree to which ranked variables are associated by a monotonic function, meaning an increasing or decreasing relationship. As a statistical hypothesis test, the method assumes that the samples are uncorrelated (fail to reject H0).\n",
    "\n",
    "The Spearman rank-order correlation is a statistical procedure that is designed to measure the relationship between two variables on an ordinal scale of measurement.\n",
    "\n",
    "— Page 124, Nonparametric Statistics for Non-Statisticians: A Step-by-Step Approach, 2009.\n",
    "\n",
    "The intuition for the Spearman’s rank correlation is that it calculates a Pearson’s correlation (e.g. a parametric measure of correlation) using the rank values instead of the real values. Where the Pearson’s correlation is the calculation of the covariance (or expected difference of observations from the mean) between the two variables normalized by the variance or spread of both variables.\n",
    "\n",
    "Spearman’s rank correlation can be calculated in Python using the spearmanr() SciPy function."
   ]
  },
  {
   "cell_type": "markdown",
   "id": "e8ef3887-79eb-4ad1-854e-9d1a4d71e221",
   "metadata": {},
   "source": [
    "##### Numerical Column"
   ]
  },
  {
   "cell_type": "code",
   "execution_count": 69,
   "id": "503bfcb7-f6b4-43b0-a5d1-6f6709aad6d2",
   "metadata": {},
   "outputs": [
    {
     "name": "stdout",
     "output_type": "stream",
     "text": [
      "--------------- Applicant Income & loan status Correlation ---------------\n",
      "\n",
      "Pearson correlation coefficient: -0.005\n",
      "\n",
      "Samples are uncorrelated (fail to reject H0) p=0.907\n",
      "\n"
     ]
    }
   ],
   "source": [
    "pearson_correlation(df_train[\"applicantincome\"], df_train[\"loan_status\"], \"Applicant Income & loan status Correlation\")"
   ]
  },
  {
   "cell_type": "code",
   "execution_count": 70,
   "id": "ea0bf2ac-6bf0-4914-a809-32bec92cd4bf",
   "metadata": {},
   "outputs": [
    {
     "name": "stdout",
     "output_type": "stream",
     "text": [
      "--------------- Applicant Income & loan status Correlation ---------------\n",
      "\n",
      "Pearson correlation coefficient: -0.023\n",
      "\n",
      "Samples are uncorrelated (fail to reject H0) p=0.577\n",
      "\n"
     ]
    }
   ],
   "source": [
    "pearson_correlation(df_train[\"loan_amount_term\"], df_train[\"loan_status\"], \"Applicant Income & loan status Correlation\")"
   ]
  },
  {
   "cell_type": "code",
   "execution_count": 71,
   "id": "4aa57dc1-11a1-41fc-acbd-b2fd90c3fdea",
   "metadata": {},
   "outputs": [
    {
     "name": "stdout",
     "output_type": "stream",
     "text": [
      "--------------- Applicant Income & loan status Correlation ---------------\n",
      "\n",
      "Pearson correlation coefficient: 0.540\n",
      "\n",
      "Samples are correlated (reject H0) p=0.000\n",
      "\n"
     ]
    }
   ],
   "source": [
    "pearson_correlation(df_train[\"credit_history\"], df_train[\"loan_status\"], \"Applicant Income & loan status Correlation\")"
   ]
  },
  {
   "cell_type": "code",
   "execution_count": 72,
   "id": "6a245316-c0fc-47f1-8d8f-80316867962c",
   "metadata": {},
   "outputs": [
    {
     "name": "stdout",
     "output_type": "stream",
     "text": [
      "--------------- Applicant Income & loan status Correlation ---------------\n",
      "\n",
      "Pearson correlation coefficient: -0.036\n",
      "\n",
      "Samples are uncorrelated (fail to reject H0) p=0.368\n",
      "\n"
     ]
    }
   ],
   "source": [
    "pearson_correlation(df_train[\"loanamount\"], df_train[\"loan_status\"], \"Applicant Income & loan status Correlation\")"
   ]
  },
  {
   "cell_type": "code",
   "execution_count": 73,
   "id": "8a830ea5-1e4c-462d-99f7-66edb2649774",
   "metadata": {},
   "outputs": [],
   "source": [
    "#converting string to int\n",
    "df_train['dependents'] = df_train['dependents'].astype('int64')"
   ]
  },
  {
   "cell_type": "code",
   "execution_count": 74,
   "id": "061f67b4-a484-480a-8d72-d349cb3cffa1",
   "metadata": {
    "jupyter": {
     "source_hidden": true
    },
    "tags": []
   },
   "outputs": [
    {
     "name": "stdout",
     "output_type": "stream",
     "text": [
      "--------------- Applicant dependents & loan status Correlation ---------------\n",
      "\n",
      "Pearson correlation coefficient: 0.010\n",
      "\n",
      "Samples are uncorrelated (fail to reject H0) p=0.802\n",
      "\n"
     ]
    }
   ],
   "source": [
    "pearson_correlation(df_train[\"dependents\"], df_train[\"loan_status\"], \"Applicant dependents & loan status Correlation\")"
   ]
  },
  {
   "cell_type": "code",
   "execution_count": 75,
   "id": "7a954929-1568-4485-8e37-03d580b30b25",
   "metadata": {},
   "outputs": [
    {
     "data": {
      "text/plain": [
       "array(['Graduate', 'Not Graduate'], dtype=object)"
      ]
     },
     "execution_count": 75,
     "metadata": {},
     "output_type": "execute_result"
    }
   ],
   "source": [
    "df_train.education.unique()"
   ]
  },
  {
   "cell_type": "markdown",
   "id": "9ee93597-7c05-4653-8434-52b72203556c",
   "metadata": {},
   "source": [
    "## Multivariate Analysis"
   ]
  },
  {
   "cell_type": "markdown",
   "id": "502e7fb2-0091-4bc8-afaa-5c06b2e56884",
   "metadata": {},
   "source": [
    "#### Categorical Column"
   ]
  },
  {
   "cell_type": "code",
   "execution_count": 76,
   "id": "55ef05de-9b0e-48e6-8e31-3a628cae16e2",
   "metadata": {},
   "outputs": [
    {
     "data": {
      "image/png": "[encoded data removed]",
      "text/plain": [
       "<Figure size 1728x576 with 1 Axes>"
      ]
     },
     "metadata": {
      "needs_background": "light"
     },
     "output_type": "display_data"
    }
   ],
   "source": [
    "I = (df_train.loc[df_train[\"property_area\"]\n",
    "         .isin([\"Urban\", \"Rural\", \"Semiurban\"])]\n",
    "         .loc[:, [\"applicantincome\", \"property_area\", \"loan_status\"]])\n",
    "\n",
    "data = I\n",
    "title = \"Top 3 property area & loan status\"\n",
    "x = \"property_area\"\n",
    "y = \"applicantincome\"\n",
    "hue = \"loan_status\"\n",
    "xlabel = \"Top 3  property area applicantincome\"\n",
    "ylabel = \"Income\"\n",
    "\n",
    "mtvboxplot(data=data, title=title, x=x, y=y, \n",
    "           hue=hue, xlabel=xlabel, ylabel=ylabel);"
   ]
  },
  {
   "cell_type": "code",
   "execution_count": 77,
   "id": "e0c328e1-38ca-473d-850f-e13b9f093ff7",
   "metadata": {},
   "outputs": [
    {
     "data": {
      "image/png": "[encoded data removed]",
      "text/plain": [
       "<Figure size 1728x576 with 1 Axes>"
      ]
     },
     "metadata": {
      "needs_background": "light"
     },
     "output_type": "display_data"
    }
   ],
   "source": [
    "C = (df_train.loc[df_train[\"education\"]\n",
    "         .isin([\"Graduate\", \"Not Graduate\"])]\n",
    "         .loc[:, [\"applicantincome\", \"education\", \"loan_status\"]])\n",
    "\n",
    "data = C\n",
    "title = \"Top 5 education & loan_status\"\n",
    "x = \"education\"\n",
    "y = \"applicantincome\"\n",
    "hue = \"loan_status\"\n",
    "xlabel = \"Top 5 education applicantincome\"\n",
    "ylabel = \"applicantincome\"\n",
    "\n",
    "mtvboxplot(data=data, title=title, x=x, y=y, \n",
    "           hue=hue, xlabel=xlabel, ylabel=ylabel);"
   ]
  },
  {
   "cell_type": "code",
   "execution_count": 78,
   "id": "a5df9c2a-29e9-4de3-a6c5-e957edec4e53",
   "metadata": {},
   "outputs": [
    {
     "data": {
      "text/html": [
       "<div>\n",
       "<style scoped>\n",
       "    .dataframe tbody tr th:only-of-type {\n",
       "        vertical-align: middle;\n",
       "    }\n",
       "\n",
       "    .dataframe tbody tr th {\n",
       "        vertical-align: top;\n",
       "    }\n",
       "\n",
       "    .dataframe thead th {\n",
       "        text-align: right;\n",
       "    }\n",
       "</style>\n",
       "<table border=\"1\" class=\"dataframe\">\n",
       "  <thead>\n",
       "    <tr style=\"text-align: right;\">\n",
       "      <th></th>\n",
       "      <th>loan_id</th>\n",
       "      <th>gender</th>\n",
       "      <th>married</th>\n",
       "      <th>dependents</th>\n",
       "      <th>education</th>\n",
       "      <th>self_employed</th>\n",
       "      <th>applicantincome</th>\n",
       "      <th>coapplicantincome</th>\n",
       "      <th>loanamount</th>\n",
       "      <th>loan_amount_term</th>\n",
       "      <th>credit_history</th>\n",
       "      <th>property_area</th>\n",
       "      <th>loan_status</th>\n",
       "    </tr>\n",
       "  </thead>\n",
       "  <tbody>\n",
       "    <tr>\n",
       "      <th>0</th>\n",
       "      <td>LP001002</td>\n",
       "      <td>Male</td>\n",
       "      <td>No</td>\n",
       "      <td>0</td>\n",
       "      <td>Graduate</td>\n",
       "      <td>No</td>\n",
       "      <td>5849</td>\n",
       "      <td>0.000</td>\n",
       "      <td>146.412</td>\n",
       "      <td>360.000</td>\n",
       "      <td>1.000</td>\n",
       "      <td>Urban</td>\n",
       "      <td>1</td>\n",
       "    </tr>\n",
       "    <tr>\n",
       "      <th>1</th>\n",
       "      <td>LP001003</td>\n",
       "      <td>Male</td>\n",
       "      <td>Yes</td>\n",
       "      <td>1</td>\n",
       "      <td>Graduate</td>\n",
       "      <td>No</td>\n",
       "      <td>4583</td>\n",
       "      <td>1508.000</td>\n",
       "      <td>128.000</td>\n",
       "      <td>360.000</td>\n",
       "      <td>1.000</td>\n",
       "      <td>Rural</td>\n",
       "      <td>0</td>\n",
       "    </tr>\n",
       "    <tr>\n",
       "      <th>2</th>\n",
       "      <td>LP001005</td>\n",
       "      <td>Male</td>\n",
       "      <td>Yes</td>\n",
       "      <td>0</td>\n",
       "      <td>Graduate</td>\n",
       "      <td>Yes</td>\n",
       "      <td>3000</td>\n",
       "      <td>0.000</td>\n",
       "      <td>66.000</td>\n",
       "      <td>360.000</td>\n",
       "      <td>1.000</td>\n",
       "      <td>Urban</td>\n",
       "      <td>1</td>\n",
       "    </tr>\n",
       "    <tr>\n",
       "      <th>3</th>\n",
       "      <td>LP001006</td>\n",
       "      <td>Male</td>\n",
       "      <td>Yes</td>\n",
       "      <td>0</td>\n",
       "      <td>Not Graduate</td>\n",
       "      <td>No</td>\n",
       "      <td>2583</td>\n",
       "      <td>2358.000</td>\n",
       "      <td>120.000</td>\n",
       "      <td>360.000</td>\n",
       "      <td>1.000</td>\n",
       "      <td>Urban</td>\n",
       "      <td>1</td>\n",
       "    </tr>\n",
       "    <tr>\n",
       "      <th>4</th>\n",
       "      <td>LP001008</td>\n",
       "      <td>Male</td>\n",
       "      <td>No</td>\n",
       "      <td>0</td>\n",
       "      <td>Graduate</td>\n",
       "      <td>No</td>\n",
       "      <td>6000</td>\n",
       "      <td>0.000</td>\n",
       "      <td>141.000</td>\n",
       "      <td>360.000</td>\n",
       "      <td>1.000</td>\n",
       "      <td>Urban</td>\n",
       "      <td>1</td>\n",
       "    </tr>\n",
       "  </tbody>\n",
       "</table>\n",
       "</div>"
      ],
      "text/plain": [
       "    loan_id gender married  dependents     education self_employed  applicantincome  \\\n",
       "0  LP001002   Male      No           0      Graduate            No             5849   \n",
       "1  LP001003   Male     Yes           1      Graduate            No             4583   \n",
       "2  LP001005   Male     Yes           0      Graduate           Yes             3000   \n",
       "3  LP001006   Male     Yes           0  Not Graduate            No             2583   \n",
       "4  LP001008   Male      No           0      Graduate            No             6000   \n",
       "\n",
       "   coapplicantincome  loanamount  loan_amount_term  credit_history property_area  loan_status  \n",
       "0              0.000     146.412           360.000           1.000         Urban            1  \n",
       "1           1508.000     128.000           360.000           1.000         Rural            0  \n",
       "2              0.000      66.000           360.000           1.000         Urban            1  \n",
       "3           2358.000     120.000           360.000           1.000         Urban            1  \n",
       "4              0.000     141.000           360.000           1.000         Urban            1  "
      ]
     },
     "execution_count": 78,
     "metadata": {},
     "output_type": "execute_result"
    }
   ],
   "source": [
    "df_train.head()"
   ]
  },
  {
   "cell_type": "markdown",
   "id": "ffa64449-5dfa-4849-910a-dd04e98ba2aa",
   "metadata": {},
   "source": [
    "##### Random Under-Sampling"
   ]
  },
  {
   "cell_type": "code",
   "execution_count": 91,
   "id": "f654f9c4-164b-4f71-aefb-6d2833e1e5e0",
   "metadata": {},
   "outputs": [],
   "source": [
    "# Since our classes are highly skewed we should make them equivalent in order to have a normal distribution of the classes.\n",
    "# Lets shuffle the data before creating the subsamples\n",
    "df_train = df_train.sample(frac=1)"
   ]
  },
  {
   "cell_type": "code",
   "execution_count": 92,
   "id": "70e22140-13eb-44c5-bf14-6ba43c9a6a5c",
   "metadata": {},
   "outputs": [
    {
     "ename": "NameError",
     "evalue": "name 'df' is not defined",
     "output_type": "error",
     "traceback": [
      "\u001b[0;31m---------------------------------------------------------------------------\u001b[0m",
      "\u001b[0;31mNameError\u001b[0m                                 Traceback (most recent call last)",
      "Input \u001b[0;32mIn [92]\u001b[0m, in \u001b[0;36m<cell line: 2>\u001b[0;34m()\u001b[0m\n\u001b[1;32m      1\u001b[0m \u001b[38;5;66;03m# amount of fraud classes 492 rows.\u001b[39;00m\n\u001b[0;32m----> 2\u001b[0m loan_1 \u001b[38;5;241m=\u001b[39m df\u001b[38;5;241m.\u001b[39mloc[df_train[\u001b[38;5;124m\"\u001b[39m\u001b[38;5;124mloan_status\u001b[39m\u001b[38;5;124m\"\u001b[39m] \u001b[38;5;241m==\u001b[39m \u001b[38;5;241m1\u001b[39m]\n\u001b[1;32m      3\u001b[0m loan_0 \u001b[38;5;241m=\u001b[39m df\u001b[38;5;241m.\u001b[39mloc[df_train[\u001b[38;5;124m\"\u001b[39m\u001b[38;5;124mloan_status\u001b[39m\u001b[38;5;124m\"\u001b[39m] \u001b[38;5;241m==\u001b[39m \u001b[38;5;241m0\u001b[39m][:\u001b[38;5;241m30996\u001b[39m]\n\u001b[1;32m      5\u001b[0m normal_distributed_data \u001b[38;5;241m=\u001b[39m pd\u001b[38;5;241m.\u001b[39mconcat([loan_1, loan_0])\n",
      "\u001b[0;31mNameError\u001b[0m: name 'df' is not defined"
     ]
    }
   ],
   "source": [
    "# amount of fraud classes 492 rows.\n",
    "loan_1 = df.loc[df_train[\"loan_status\"] == 1]\n",
    "loan_0 = df.loc[df_train[\"loan_status\"] == 0][:30996]\n",
    "\n",
    "normal_distributed_data = pd.concat([loan_1, loan_0])"
   ]
  },
  {
   "cell_type": "markdown",
   "id": "d2b7fb10-a9ac-4b17-8295-ed41babc93d4",
   "metadata": {},
   "source": [
    "### Numerical Column"
   ]
  },
  {
   "cell_type": "code",
   "execution_count": 79,
   "id": "1fe2d096-1994-4501-8d9c-5b7f862e9443",
   "metadata": {},
   "outputs": [
    {
     "data": {
      "image/png": "[encoded data removed]",
      "text/plain": [
       "<Figure size 792x648 with 2 Axes>"
      ]
     },
     "metadata": {
      "needs_background": "light"
     },
     "output_type": "display_data"
    }
   ],
   "source": [
    "# Create the correlation matrix\n",
    "corr = df_train.corr()\n",
    "\n",
    "# Generate mask for the upper triangle; True = do NOT show\n",
    "mask = np.zeros_like(corr, dtype=np.bool)\n",
    "mask[np.triu_indices_from(mask)] = True\n",
    "\n",
    "# Set up the matplotlib figure\n",
    "fig, ax = plt.subplots(figsize=(11, 9))\n",
    "\n",
    "# Generate a custom diverging colormap\n",
    "cmap = sns.diverging_palette(220, 10, as_cmap=True)\n",
    "\n",
    "# Draw the heatmap with the mask and correct aspect ration\n",
    "sns.heatmap(corr,\n",
    "            mask=mask,\n",
    "            cmap=cmap,\n",
    "            annot=True,\n",
    "            vmax=.3,\n",
    "            vmin=-.3,\n",
    "            center=0,\n",
    "            square=True,\n",
    "            linewidths=.5,\n",
    "            cbar_kws={\"shrink\": .5});"
   ]
  },
  {
   "cell_type": "code",
   "execution_count": 80,
   "id": "17870e68-b5b5-4fe6-bdb9-edfa1f82b2a1",
   "metadata": {},
   "outputs": [
    {
     "data": {
      "text/html": [
       "<style type=\"text/css\">\n",
       "#T_b47e0_row0_col0, #T_b47e0_row1_col1, #T_b47e0_row2_col2, #T_b47e0_row3_col3, #T_b47e0_row4_col4, #T_b47e0_row5_col5, #T_b47e0_row6_col6 {\n",
       "  background-color: #da3b46;\n",
       "  color: #f1f1f1;\n",
       "}\n",
       "#T_b47e0_row0_col1 {\n",
       "  background-color: #88afbb;\n",
       "  color: #f1f1f1;\n",
       "}\n",
       "#T_b47e0_row0_col2 {\n",
       "  background-color: #6d9dac;\n",
       "  color: #f1f1f1;\n",
       "}\n",
       "#T_b47e0_row0_col3 {\n",
       "  background-color: #83abb8;\n",
       "  color: #f1f1f1;\n",
       "}\n",
       "#T_b47e0_row0_col4, #T_b47e0_row0_col5, #T_b47e0_row1_col2, #T_b47e0_row2_col1, #T_b47e0_row2_col6, #T_b47e0_row4_col0, #T_b47e0_row6_col3 {\n",
       "  background-color: #3f7f93;\n",
       "  color: #f1f1f1;\n",
       "}\n",
       "#T_b47e0_row0_col6, #T_b47e0_row4_col1 {\n",
       "  background-color: #558e9f;\n",
       "  color: #f1f1f1;\n",
       "}\n",
       "#T_b47e0_row1_col0 {\n",
       "  background-color: #85adb9;\n",
       "  color: #f1f1f1;\n",
       "}\n",
       "#T_b47e0_row1_col3 {\n",
       "  background-color: #efd4d6;\n",
       "  color: #000000;\n",
       "}\n",
       "#T_b47e0_row1_col4, #T_b47e0_row1_col6, #T_b47e0_row4_col2, #T_b47e0_row6_col2 {\n",
       "  background-color: #518b9d;\n",
       "  color: #f1f1f1;\n",
       "}\n",
       "#T_b47e0_row1_col5, #T_b47e0_row3_col6 {\n",
       "  background-color: #468497;\n",
       "  color: #f1f1f1;\n",
       "}\n",
       "#T_b47e0_row2_col0 {\n",
       "  background-color: #6a9baa;\n",
       "  color: #f1f1f1;\n",
       "}\n",
       "#T_b47e0_row2_col3 {\n",
       "  background-color: #8bb1bc;\n",
       "  color: #f1f1f1;\n",
       "}\n",
       "#T_b47e0_row2_col4 {\n",
       "  background-color: #4d889b;\n",
       "  color: #f1f1f1;\n",
       "}\n",
       "#T_b47e0_row2_col5, #T_b47e0_row4_col5, #T_b47e0_row4_col6 {\n",
       "  background-color: #4a8699;\n",
       "  color: #f1f1f1;\n",
       "}\n",
       "#T_b47e0_row3_col0 {\n",
       "  background-color: #93b6c1;\n",
       "  color: #000000;\n",
       "}\n",
       "#T_b47e0_row3_col1 {\n",
       "  background-color: #edc9cb;\n",
       "  color: #000000;\n",
       "}\n",
       "#T_b47e0_row3_col2 {\n",
       "  background-color: #9fbec7;\n",
       "  color: #000000;\n",
       "}\n",
       "#T_b47e0_row3_col4 {\n",
       "  background-color: #6b9cab;\n",
       "  color: #f1f1f1;\n",
       "}\n",
       "#T_b47e0_row3_col5, #T_b47e0_row5_col3 {\n",
       "  background-color: #498698;\n",
       "  color: #f1f1f1;\n",
       "}\n",
       "#T_b47e0_row4_col3, #T_b47e0_row6_col4 {\n",
       "  background-color: #588fa1;\n",
       "  color: #f1f1f1;\n",
       "}\n",
       "#T_b47e0_row5_col0 {\n",
       "  background-color: #548d9e;\n",
       "  color: #f1f1f1;\n",
       "}\n",
       "#T_b47e0_row5_col1, #T_b47e0_row5_col4 {\n",
       "  background-color: #5f94a4;\n",
       "  color: #f1f1f1;\n",
       "}\n",
       "#T_b47e0_row5_col2, #T_b47e0_row6_col0 {\n",
       "  background-color: #6397a7;\n",
       "  color: #f1f1f1;\n",
       "}\n",
       "#T_b47e0_row5_col6 {\n",
       "  background-color: #efdadb;\n",
       "  color: #000000;\n",
       "}\n",
       "#T_b47e0_row6_col1 {\n",
       "  background-color: #6296a6;\n",
       "  color: #f1f1f1;\n",
       "}\n",
       "#T_b47e0_row6_col5 {\n",
       "  background-color: #f0ddde;\n",
       "  color: #000000;\n",
       "}\n",
       "</style>\n",
       "<table id=\"T_b47e0_\">\n",
       "  <thead>\n",
       "    <tr>\n",
       "      <th class=\"blank level0\" >&nbsp;</th>\n",
       "      <th class=\"col_heading level0 col0\" >dependents</th>\n",
       "      <th class=\"col_heading level0 col1\" >applicantincome</th>\n",
       "      <th class=\"col_heading level0 col2\" >coapplicantincome</th>\n",
       "      <th class=\"col_heading level0 col3\" >loanamount</th>\n",
       "      <th class=\"col_heading level0 col4\" >loan_amount_term</th>\n",
       "      <th class=\"col_heading level0 col5\" >credit_history</th>\n",
       "      <th class=\"col_heading level0 col6\" >loan_status</th>\n",
       "    </tr>\n",
       "  </thead>\n",
       "  <tbody>\n",
       "    <tr>\n",
       "      <th id=\"T_b47e0_level0_row0\" class=\"row_heading level0 row0\" >dependents</th>\n",
       "      <td id=\"T_b47e0_row0_col0\" class=\"data row0 col0\" >1.000000</td>\n",
       "      <td id=\"T_b47e0_row0_col1\" class=\"data row0 col1\" >0.118202</td>\n",
       "      <td id=\"T_b47e0_row0_col2\" class=\"data row0 col2\" >0.030430</td>\n",
       "      <td id=\"T_b47e0_row0_col3\" class=\"data row0 col3\" >0.163106</td>\n",
       "      <td id=\"T_b47e0_row0_col4\" class=\"data row0 col4\" >-0.103864</td>\n",
       "      <td id=\"T_b47e0_row0_col5\" class=\"data row0 col5\" >-0.037392</td>\n",
       "      <td id=\"T_b47e0_row0_col6\" class=\"data row0 col6\" >0.010118</td>\n",
       "    </tr>\n",
       "    <tr>\n",
       "      <th id=\"T_b47e0_level0_row1\" class=\"row_heading level0 row1\" >applicantincome</th>\n",
       "      <td id=\"T_b47e0_row1_col0\" class=\"data row1 col0\" >0.118202</td>\n",
       "      <td id=\"T_b47e0_row1_col1\" class=\"data row1 col1\" >1.000000</td>\n",
       "      <td id=\"T_b47e0_row1_col2\" class=\"data row1 col2\" >-0.116605</td>\n",
       "      <td id=\"T_b47e0_row1_col3\" class=\"data row1 col3\" >0.565620</td>\n",
       "      <td id=\"T_b47e0_row1_col4\" class=\"data row1 col4\" >-0.046531</td>\n",
       "      <td id=\"T_b47e0_row1_col5\" class=\"data row1 col5\" >-0.014477</td>\n",
       "      <td id=\"T_b47e0_row1_col6\" class=\"data row1 col6\" >-0.004710</td>\n",
       "    </tr>\n",
       "    <tr>\n",
       "      <th id=\"T_b47e0_level0_row2\" class=\"row_heading level0 row2\" >coapplicantincome</th>\n",
       "      <td id=\"T_b47e0_row2_col0\" class=\"data row2 col0\" >0.030430</td>\n",
       "      <td id=\"T_b47e0_row2_col1\" class=\"data row2 col1\" >-0.116605</td>\n",
       "      <td id=\"T_b47e0_row2_col2\" class=\"data row2 col2\" >1.000000</td>\n",
       "      <td id=\"T_b47e0_row2_col3\" class=\"data row2 col3\" >0.187828</td>\n",
       "      <td id=\"T_b47e0_row2_col4\" class=\"data row2 col4\" >-0.059383</td>\n",
       "      <td id=\"T_b47e0_row2_col5\" class=\"data row2 col5\" >-0.001665</td>\n",
       "      <td id=\"T_b47e0_row2_col6\" class=\"data row2 col6\" >-0.059187</td>\n",
       "    </tr>\n",
       "    <tr>\n",
       "      <th id=\"T_b47e0_level0_row3\" class=\"row_heading level0 row3\" >loanamount</th>\n",
       "      <td id=\"T_b47e0_row3_col0\" class=\"data row3 col0\" >0.163106</td>\n",
       "      <td id=\"T_b47e0_row3_col1\" class=\"data row3 col1\" >0.565620</td>\n",
       "      <td id=\"T_b47e0_row3_col2\" class=\"data row3 col2\" >0.187828</td>\n",
       "      <td id=\"T_b47e0_row3_col3\" class=\"data row3 col3\" >1.000000</td>\n",
       "      <td id=\"T_b47e0_row3_col4\" class=\"data row3 col4\" >0.036475</td>\n",
       "      <td id=\"T_b47e0_row3_col5\" class=\"data row3 col5\" >-0.007738</td>\n",
       "      <td id=\"T_b47e0_row3_col6\" class=\"data row3 col6\" >-0.036416</td>\n",
       "    </tr>\n",
       "    <tr>\n",
       "      <th id=\"T_b47e0_level0_row4\" class=\"row_heading level0 row4\" >loan_amount_term</th>\n",
       "      <td id=\"T_b47e0_row4_col0\" class=\"data row4 col0\" >-0.103864</td>\n",
       "      <td id=\"T_b47e0_row4_col1\" class=\"data row4 col1\" >-0.046531</td>\n",
       "      <td id=\"T_b47e0_row4_col2\" class=\"data row4 col2\" >-0.059383</td>\n",
       "      <td id=\"T_b47e0_row4_col3\" class=\"data row4 col3\" >0.036475</td>\n",
       "      <td id=\"T_b47e0_row4_col4\" class=\"data row4 col4\" >1.000000</td>\n",
       "      <td id=\"T_b47e0_row4_col5\" class=\"data row4 col5\" >-0.003546</td>\n",
       "      <td id=\"T_b47e0_row4_col6\" class=\"data row4 col6\" >-0.022549</td>\n",
       "    </tr>\n",
       "    <tr>\n",
       "      <th id=\"T_b47e0_level0_row5\" class=\"row_heading level0 row5\" >credit_history</th>\n",
       "      <td id=\"T_b47e0_row5_col0\" class=\"data row5 col0\" >-0.037392</td>\n",
       "      <td id=\"T_b47e0_row5_col1\" class=\"data row5 col1\" >-0.014477</td>\n",
       "      <td id=\"T_b47e0_row5_col2\" class=\"data row5 col2\" >-0.001665</td>\n",
       "      <td id=\"T_b47e0_row5_col3\" class=\"data row5 col3\" >-0.007738</td>\n",
       "      <td id=\"T_b47e0_row5_col4\" class=\"data row5 col4\" >-0.003546</td>\n",
       "      <td id=\"T_b47e0_row5_col5\" class=\"data row5 col5\" >1.000000</td>\n",
       "      <td id=\"T_b47e0_row5_col6\" class=\"data row5 col6\" >0.540483</td>\n",
       "    </tr>\n",
       "    <tr>\n",
       "      <th id=\"T_b47e0_level0_row6\" class=\"row_heading level0 row6\" >loan_status</th>\n",
       "      <td id=\"T_b47e0_row6_col0\" class=\"data row6 col0\" >0.010118</td>\n",
       "      <td id=\"T_b47e0_row6_col1\" class=\"data row6 col1\" >-0.004710</td>\n",
       "      <td id=\"T_b47e0_row6_col2\" class=\"data row6 col2\" >-0.059187</td>\n",
       "      <td id=\"T_b47e0_row6_col3\" class=\"data row6 col3\" >-0.036416</td>\n",
       "      <td id=\"T_b47e0_row6_col4\" class=\"data row6 col4\" >-0.022549</td>\n",
       "      <td id=\"T_b47e0_row6_col5\" class=\"data row6 col5\" >0.540483</td>\n",
       "      <td id=\"T_b47e0_row6_col6\" class=\"data row6 col6\" >1.000000</td>\n",
       "    </tr>\n",
       "  </tbody>\n",
       "</table>\n"
      ],
      "text/plain": [
       "<pandas.io.formats.style.Styler at 0x7f8a6b0554b0>"
      ]
     },
     "execution_count": 80,
     "metadata": {},
     "output_type": "execute_result"
    }
   ],
   "source": [
    "corr.style.background_gradient(cmap=cmap)"
   ]
  },
  {
   "cell_type": "markdown",
   "id": "c92e6e58-654d-4fcf-a600-d76753de8ac8",
   "metadata": {},
   "source": [
    "## Data Preprocessing"
   ]
  },
  {
   "cell_type": "markdown",
   "id": "bc6f26f0-9235-4838-ba0f-3c479d8d285f",
   "metadata": {},
   "source": [
    "#### Getting Mutual Info"
   ]
  },
  {
   "cell_type": "code",
   "execution_count": 81,
   "id": "fd272d4c-be64-489a-8116-cd23cf55658a",
   "metadata": {},
   "outputs": [],
   "source": [
    "from sklearn.feature_selection import mutual_info_classif\n",
    "from sklearn.preprocessing import LabelEncoder\n",
    "\n",
    "# define column has type Object to implement LabelEncoder\n",
    "list_object = df_train.select_dtypes(\"object\").columns.tolist()\n",
    "encoder = LabelEncoder()\n",
    "\n",
    "for col in list_object:\n",
    "    df_train[col] = encoder.fit_transform(df_train[col].values.tolist())"
   ]
  },
  {
   "cell_type": "code",
   "execution_count": 82,
   "id": "d800f209-94c8-4041-8560-6b7c7ff6b4c1",
   "metadata": {},
   "outputs": [
    {
     "data": {
      "text/html": [
       "<div>\n",
       "<style scoped>\n",
       "    .dataframe tbody tr th:only-of-type {\n",
       "        vertical-align: middle;\n",
       "    }\n",
       "\n",
       "    .dataframe tbody tr th {\n",
       "        vertical-align: top;\n",
       "    }\n",
       "\n",
       "    .dataframe thead th {\n",
       "        text-align: right;\n",
       "    }\n",
       "</style>\n",
       "<table border=\"1\" class=\"dataframe\">\n",
       "  <thead>\n",
       "    <tr style=\"text-align: right;\">\n",
       "      <th></th>\n",
       "      <th>MI Scores</th>\n",
       "    </tr>\n",
       "  </thead>\n",
       "  <tbody>\n",
       "    <tr>\n",
       "      <th>index</th>\n",
       "      <td>0.621</td>\n",
       "    </tr>\n",
       "    <tr>\n",
       "      <th>applicantincome</th>\n",
       "      <td>0.517</td>\n",
       "    </tr>\n",
       "    <tr>\n",
       "      <th>coapplicantincome</th>\n",
       "      <td>0.290</td>\n",
       "    </tr>\n",
       "    <tr>\n",
       "      <th>loanamount</th>\n",
       "      <td>0.204</td>\n",
       "    </tr>\n",
       "    <tr>\n",
       "      <th>credit_history</th>\n",
       "      <td>0.088</td>\n",
       "    </tr>\n",
       "    <tr>\n",
       "      <th>loan_amount_term</th>\n",
       "      <td>0.012</td>\n",
       "    </tr>\n",
       "    <tr>\n",
       "      <th>property_area</th>\n",
       "      <td>0.010</td>\n",
       "    </tr>\n",
       "    <tr>\n",
       "      <th>married</th>\n",
       "      <td>0.004</td>\n",
       "    </tr>\n",
       "    <tr>\n",
       "      <th>education</th>\n",
       "      <td>0.004</td>\n",
       "    </tr>\n",
       "    <tr>\n",
       "      <th>dependents</th>\n",
       "      <td>0.003</td>\n",
       "    </tr>\n",
       "    <tr>\n",
       "      <th>gender</th>\n",
       "      <td>0.000</td>\n",
       "    </tr>\n",
       "    <tr>\n",
       "      <th>self_employed</th>\n",
       "      <td>0.000</td>\n",
       "    </tr>\n",
       "  </tbody>\n",
       "</table>\n",
       "</div>"
      ],
      "text/plain": [
       "                   MI Scores\n",
       "index                  0.621\n",
       "applicantincome        0.517\n",
       "coapplicantincome      0.290\n",
       "loanamount             0.204\n",
       "credit_history         0.088\n",
       "loan_amount_term       0.012\n",
       "property_area          0.010\n",
       "married                0.004\n",
       "education              0.004\n",
       "dependents             0.003\n",
       "gender                 0.000\n",
       "self_employed          0.000"
      ]
     },
     "execution_count": 82,
     "metadata": {},
     "output_type": "execute_result"
    }
   ],
   "source": [
    "# getting the Mutual Information about the data\n",
    "X_mutual = df_train.astype(\"int64\").reset_index().copy()\n",
    "y_mutual = X_mutual.pop(\"loan_status\")\n",
    "\n",
    "del X_mutual[\"loan_id\"]\n",
    "\n",
    "# all discrete features should now have integer dtypes\n",
    "discrete_features = X_mutual.dtypes == int\n",
    "\n",
    "# mi scores function\n",
    "def make_mi_scores(X_mutual, y_mutual, discrete_features):\n",
    "    mi_scores = mutual_info_classif(X_mutual, y_mutual, discrete_features=discrete_features)\n",
    "    mi_scores = pd.Series(mi_scores, name=\"MI Scores\", index=X_mutual.columns)\n",
    "    mi_scores = mi_scores.sort_values(ascending=False)\n",
    "    return mi_scores\n",
    "\n",
    "mi_scores = make_mi_scores(X_mutual, y_mutual, discrete_features)\n",
    "mi_scores.to_frame()"
   ]
  },
  {
   "cell_type": "code",
   "execution_count": 83,
   "id": "b592560f-f3fc-4809-8a9d-ccb263058b87",
   "metadata": {},
   "outputs": [
    {
     "data": {
      "text/html": [
       "<div>\n",
       "<style scoped>\n",
       "    .dataframe tbody tr th:only-of-type {\n",
       "        vertical-align: middle;\n",
       "    }\n",
       "\n",
       "    .dataframe tbody tr th {\n",
       "        vertical-align: top;\n",
       "    }\n",
       "\n",
       "    .dataframe thead th {\n",
       "        text-align: right;\n",
       "    }\n",
       "</style>\n",
       "<table border=\"1\" class=\"dataframe\">\n",
       "  <thead>\n",
       "    <tr style=\"text-align: right;\">\n",
       "      <th></th>\n",
       "      <th>index</th>\n",
       "      <th>gender</th>\n",
       "      <th>married</th>\n",
       "      <th>dependents</th>\n",
       "      <th>education</th>\n",
       "      <th>self_employed</th>\n",
       "      <th>applicantincome</th>\n",
       "      <th>coapplicantincome</th>\n",
       "      <th>loanamount</th>\n",
       "      <th>loan_amount_term</th>\n",
       "      <th>credit_history</th>\n",
       "      <th>property_area</th>\n",
       "    </tr>\n",
       "  </thead>\n",
       "  <tbody>\n",
       "    <tr>\n",
       "      <th>0</th>\n",
       "      <td>0</td>\n",
       "      <td>1</td>\n",
       "      <td>0</td>\n",
       "      <td>0</td>\n",
       "      <td>0</td>\n",
       "      <td>0</td>\n",
       "      <td>5849</td>\n",
       "      <td>0</td>\n",
       "      <td>146</td>\n",
       "      <td>360</td>\n",
       "      <td>1</td>\n",
       "      <td>2</td>\n",
       "    </tr>\n",
       "    <tr>\n",
       "      <th>1</th>\n",
       "      <td>1</td>\n",
       "      <td>1</td>\n",
       "      <td>1</td>\n",
       "      <td>1</td>\n",
       "      <td>0</td>\n",
       "      <td>0</td>\n",
       "      <td>4583</td>\n",
       "      <td>1508</td>\n",
       "      <td>128</td>\n",
       "      <td>360</td>\n",
       "      <td>1</td>\n",
       "      <td>0</td>\n",
       "    </tr>\n",
       "    <tr>\n",
       "      <th>2</th>\n",
       "      <td>2</td>\n",
       "      <td>1</td>\n",
       "      <td>1</td>\n",
       "      <td>0</td>\n",
       "      <td>0</td>\n",
       "      <td>1</td>\n",
       "      <td>3000</td>\n",
       "      <td>0</td>\n",
       "      <td>66</td>\n",
       "      <td>360</td>\n",
       "      <td>1</td>\n",
       "      <td>2</td>\n",
       "    </tr>\n",
       "    <tr>\n",
       "      <th>3</th>\n",
       "      <td>3</td>\n",
       "      <td>1</td>\n",
       "      <td>1</td>\n",
       "      <td>0</td>\n",
       "      <td>1</td>\n",
       "      <td>0</td>\n",
       "      <td>2583</td>\n",
       "      <td>2358</td>\n",
       "      <td>120</td>\n",
       "      <td>360</td>\n",
       "      <td>1</td>\n",
       "      <td>2</td>\n",
       "    </tr>\n",
       "    <tr>\n",
       "      <th>4</th>\n",
       "      <td>4</td>\n",
       "      <td>1</td>\n",
       "      <td>0</td>\n",
       "      <td>0</td>\n",
       "      <td>0</td>\n",
       "      <td>0</td>\n",
       "      <td>6000</td>\n",
       "      <td>0</td>\n",
       "      <td>141</td>\n",
       "      <td>360</td>\n",
       "      <td>1</td>\n",
       "      <td>2</td>\n",
       "    </tr>\n",
       "  </tbody>\n",
       "</table>\n",
       "</div>"
      ],
      "text/plain": [
       "   index  gender  married  dependents  education  self_employed  applicantincome  \\\n",
       "0      0       1        0           0          0              0             5849   \n",
       "1      1       1        1           1          0              0             4583   \n",
       "2      2       1        1           0          0              1             3000   \n",
       "3      3       1        1           0          1              0             2583   \n",
       "4      4       1        0           0          0              0             6000   \n",
       "\n",
       "   coapplicantincome  loanamount  loan_amount_term  credit_history  property_area  \n",
       "0                  0         146               360               1              2  \n",
       "1               1508         128               360               1              0  \n",
       "2                  0          66               360               1              2  \n",
       "3               2358         120               360               1              2  \n",
       "4                  0         141               360               1              2  "
      ]
     },
     "execution_count": 83,
     "metadata": {},
     "output_type": "execute_result"
    }
   ],
   "source": [
    "X_mutual.head()"
   ]
  },
  {
   "cell_type": "code",
   "execution_count": 84,
   "id": "1c137953-dd50-4e8c-8d8f-805096c39408",
   "metadata": {},
   "outputs": [
    {
     "data": {
      "image/png": "[encoded data removed]",
      "text/plain": [
       "<Figure size 1080x360 with 1 Axes>"
      ]
     },
     "metadata": {
      "needs_background": "light"
     },
     "output_type": "display_data"
    }
   ],
   "source": [
    "# variables\n",
    "scores = mi_scores.sort_values(ascending=True)\n",
    "width = np.arange(len(scores))\n",
    "ticks = list(scores.index)\n",
    "# plotting\n",
    "plt.figure(figsize=(15, 5))\n",
    "plt.barh(width, scores, color=\"salmon\", alpha=0.7, edgecolor=\"k\")\n",
    "plt.yticks(width, ticks, weight=\"bold\", )\n",
    "plt.xticks(weight=\"bold\")\n",
    "plt.title(\"Mutual Information Scores\",\n",
    "          weight=\"bold\",\n",
    "          fontsize=20,\n",
    "          pad=25);"
   ]
  },
  {
   "cell_type": "markdown",
   "id": "f110d166-d7b0-404f-8d01-354ece40ab82",
   "metadata": {},
   "source": [
    "### Feature Selection"
   ]
  },
  {
   "cell_type": "code",
   "execution_count": 87,
   "id": "67134c7a-e60b-4b5d-becd-2bd65a285d10",
   "metadata": {},
   "outputs": [
    {
     "data": {
      "text/plain": [
       "((614, 9), (614,))"
      ]
     },
     "execution_count": 87,
     "metadata": {},
     "output_type": "execute_result"
    }
   ],
   "source": [
    "# For now, let's just use income - current_job_yrs column\n",
    "# I'll update and maybe use feature engineering in the future\n",
    "features = [\"applicantincome\", \"coapplicantincome\", \"loanamount\", \"credit_history\", \n",
    "            \"loan_amount_term\", \"property_area\", \"married\",\"education\",\"dependents\"]\n",
    "\n",
    "X_features = df_train[features]\n",
    "y_labels = df_train[\"loan_status\"]\n",
    "\n",
    "X_features.shape, y_labels.shape"
   ]
  },
  {
   "cell_type": "code",
   "execution_count": 88,
   "id": "44ec5dd6-f49d-42c8-acc6-45c789230d19",
   "metadata": {},
   "outputs": [
    {
     "data": {
      "text/html": [
       "<div>\n",
       "<style scoped>\n",
       "    .dataframe tbody tr th:only-of-type {\n",
       "        vertical-align: middle;\n",
       "    }\n",
       "\n",
       "    .dataframe tbody tr th {\n",
       "        vertical-align: top;\n",
       "    }\n",
       "\n",
       "    .dataframe thead th {\n",
       "        text-align: right;\n",
       "    }\n",
       "</style>\n",
       "<table border=\"1\" class=\"dataframe\">\n",
       "  <thead>\n",
       "    <tr style=\"text-align: right;\">\n",
       "      <th></th>\n",
       "      <th>applicantincome</th>\n",
       "      <th>coapplicantincome</th>\n",
       "      <th>loanamount</th>\n",
       "      <th>credit_history</th>\n",
       "      <th>loan_amount_term</th>\n",
       "      <th>property_area</th>\n",
       "      <th>married</th>\n",
       "      <th>education</th>\n",
       "      <th>dependents</th>\n",
       "    </tr>\n",
       "  </thead>\n",
       "  <tbody>\n",
       "    <tr>\n",
       "      <th>0</th>\n",
       "      <td>5849</td>\n",
       "      <td>0.000</td>\n",
       "      <td>146.412</td>\n",
       "      <td>1.000</td>\n",
       "      <td>360.000</td>\n",
       "      <td>2</td>\n",
       "      <td>0</td>\n",
       "      <td>0</td>\n",
       "      <td>0</td>\n",
       "    </tr>\n",
       "    <tr>\n",
       "      <th>1</th>\n",
       "      <td>4583</td>\n",
       "      <td>1508.000</td>\n",
       "      <td>128.000</td>\n",
       "      <td>1.000</td>\n",
       "      <td>360.000</td>\n",
       "      <td>0</td>\n",
       "      <td>1</td>\n",
       "      <td>0</td>\n",
       "      <td>1</td>\n",
       "    </tr>\n",
       "    <tr>\n",
       "      <th>2</th>\n",
       "      <td>3000</td>\n",
       "      <td>0.000</td>\n",
       "      <td>66.000</td>\n",
       "      <td>1.000</td>\n",
       "      <td>360.000</td>\n",
       "      <td>2</td>\n",
       "      <td>1</td>\n",
       "      <td>0</td>\n",
       "      <td>0</td>\n",
       "    </tr>\n",
       "    <tr>\n",
       "      <th>3</th>\n",
       "      <td>2583</td>\n",
       "      <td>2358.000</td>\n",
       "      <td>120.000</td>\n",
       "      <td>1.000</td>\n",
       "      <td>360.000</td>\n",
       "      <td>2</td>\n",
       "      <td>1</td>\n",
       "      <td>1</td>\n",
       "      <td>0</td>\n",
       "    </tr>\n",
       "    <tr>\n",
       "      <th>4</th>\n",
       "      <td>6000</td>\n",
       "      <td>0.000</td>\n",
       "      <td>141.000</td>\n",
       "      <td>1.000</td>\n",
       "      <td>360.000</td>\n",
       "      <td>2</td>\n",
       "      <td>0</td>\n",
       "      <td>0</td>\n",
       "      <td>0</td>\n",
       "    </tr>\n",
       "  </tbody>\n",
       "</table>\n",
       "</div>"
      ],
      "text/plain": [
       "   applicantincome  coapplicantincome  loanamount  credit_history  loan_amount_term  \\\n",
       "0             5849              0.000     146.412           1.000           360.000   \n",
       "1             4583           1508.000     128.000           1.000           360.000   \n",
       "2             3000              0.000      66.000           1.000           360.000   \n",
       "3             2583           2358.000     120.000           1.000           360.000   \n",
       "4             6000              0.000     141.000           1.000           360.000   \n",
       "\n",
       "   property_area  married  education  dependents  \n",
       "0              2        0          0           0  \n",
       "1              0        1          0           1  \n",
       "2              2        1          0           0  \n",
       "3              2        1          1           0  \n",
       "4              2        0          0           0  "
      ]
     },
     "execution_count": 88,
     "metadata": {},
     "output_type": "execute_result"
    }
   ],
   "source": [
    "X_features.head()"
   ]
  },
  {
   "cell_type": "code",
   "execution_count": 89,
   "id": "e93c9d32-1d92-42b9-87b4-02500b0ab910",
   "metadata": {},
   "outputs": [
    {
     "data": {
      "text/plain": [
       "1    422\n",
       "0    192\n",
       "Name: loan_status, dtype: int64"
      ]
     },
     "execution_count": 89,
     "metadata": {},
     "output_type": "execute_result"
    }
   ],
   "source": [
    "y_labels.value_counts()"
   ]
  },
  {
   "cell_type": "markdown",
   "id": "57c08dc2-a43e-4d2f-80cc-07c468d72c4b",
   "metadata": {},
   "source": [
    "##### Random Under-Sampling"
   ]
  },
  {
   "cell_type": "code",
   "execution_count": 90,
   "id": "0550fd76-cb82-4b86-8239-44325e16746c",
   "metadata": {},
   "outputs": [],
   "source": [
    "# Since our classes are highly skewed we should make them equivalent in order to have a normal distribution of the classes.\n",
    "# Lets shuffle the data before creating the subsamples\n",
    "df_train = df_train.sample(frac=1)"
   ]
  },
  {
   "cell_type": "code",
   "execution_count": null,
   "id": "1a295403-cd52-49d4-8e9b-81bd9c2525e1",
   "metadata": {},
   "outputs": [],
   "source": []
  }
 ],
 "metadata": {
  "kernelspec": {
   "display_name": "Python 3 (ipykernel)",
   "language": "python",
   "name": "python3"
  },
  "language_info": {
   "codemirror_mode": {
    "name": "ipython",
    "version": 3
   },
   "file_extension": ".py",
   "mimetype": "text/x-python",
   "name": "python",
   "nbconvert_exporter": "python",
   "pygments_lexer": "ipython3",
   "version": "3.10.9"
  }
 },
 "nbformat": 4,
 "nbformat_minor": 5
}
