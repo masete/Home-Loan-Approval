{
 "cells": [
  {
   "cell_type": "code",
   "execution_count": 5,
   "id": "1b61a74c-b42d-4a9d-9cdc-a5e1f7666dc1",
   "metadata": {},
   "outputs": [],
   "source": [
    "import pandas as pd\n",
    "import matplotlib.pyplot as plt\n",
    "import numpy as np\n",
    "import seaborn as sns"
   ]
  },
  {
   "cell_type": "code",
   "execution_count": 6,
   "id": "0368d02a-f85f-4c01-b4d8-227b57ad2afc",
   "metadata": {},
   "outputs": [],
   "source": [
    "df_test = pd.read_csv('data/loan_sanction_test.csv')\n",
    "df_train = pd.read_csv('data/loan_sanction_train.csv')"
   ]
  },
  {
   "cell_type": "code",
   "execution_count": 7,
   "id": "0633ba98-7fc1-40d8-a72a-f9f88ea6bc6b",
   "metadata": {},
   "outputs": [
    {
     "data": {
      "text/html": [
       "<div>\n",
       "<style scoped>\n",
       "    .dataframe tbody tr th:only-of-type {\n",
       "        vertical-align: middle;\n",
       "    }\n",
       "\n",
       "    .dataframe tbody tr th {\n",
       "        vertical-align: top;\n",
       "    }\n",
       "\n",
       "    .dataframe thead th {\n",
       "        text-align: right;\n",
       "    }\n",
       "</style>\n",
       "<table border=\"1\" class=\"dataframe\">\n",
       "  <thead>\n",
       "    <tr style=\"text-align: right;\">\n",
       "      <th></th>\n",
       "      <th>Loan_ID</th>\n",
       "      <th>Gender</th>\n",
       "      <th>Married</th>\n",
       "      <th>Dependents</th>\n",
       "      <th>Education</th>\n",
       "      <th>Self_Employed</th>\n",
       "      <th>ApplicantIncome</th>\n",
       "      <th>CoapplicantIncome</th>\n",
       "      <th>LoanAmount</th>\n",
       "      <th>Loan_Amount_Term</th>\n",
       "      <th>Credit_History</th>\n",
       "      <th>Property_Area</th>\n",
       "      <th>Loan_Status</th>\n",
       "    </tr>\n",
       "  </thead>\n",
       "  <tbody>\n",
       "    <tr>\n",
       "      <th>0</th>\n",
       "      <td>LP001002</td>\n",
       "      <td>Male</td>\n",
       "      <td>No</td>\n",
       "      <td>0</td>\n",
       "      <td>Graduate</td>\n",
       "      <td>No</td>\n",
       "      <td>5849</td>\n",
       "      <td>0.0</td>\n",
       "      <td>NaN</td>\n",
       "      <td>360.0</td>\n",
       "      <td>1.0</td>\n",
       "      <td>Urban</td>\n",
       "      <td>Y</td>\n",
       "    </tr>\n",
       "    <tr>\n",
       "      <th>1</th>\n",
       "      <td>LP001003</td>\n",
       "      <td>Male</td>\n",
       "      <td>Yes</td>\n",
       "      <td>1</td>\n",
       "      <td>Graduate</td>\n",
       "      <td>No</td>\n",
       "      <td>4583</td>\n",
       "      <td>1508.0</td>\n",
       "      <td>128.0</td>\n",
       "      <td>360.0</td>\n",
       "      <td>1.0</td>\n",
       "      <td>Rural</td>\n",
       "      <td>N</td>\n",
       "    </tr>\n",
       "    <tr>\n",
       "      <th>2</th>\n",
       "      <td>LP001005</td>\n",
       "      <td>Male</td>\n",
       "      <td>Yes</td>\n",
       "      <td>0</td>\n",
       "      <td>Graduate</td>\n",
       "      <td>Yes</td>\n",
       "      <td>3000</td>\n",
       "      <td>0.0</td>\n",
       "      <td>66.0</td>\n",
       "      <td>360.0</td>\n",
       "      <td>1.0</td>\n",
       "      <td>Urban</td>\n",
       "      <td>Y</td>\n",
       "    </tr>\n",
       "    <tr>\n",
       "      <th>3</th>\n",
       "      <td>LP001006</td>\n",
       "      <td>Male</td>\n",
       "      <td>Yes</td>\n",
       "      <td>0</td>\n",
       "      <td>Not Graduate</td>\n",
       "      <td>No</td>\n",
       "      <td>2583</td>\n",
       "      <td>2358.0</td>\n",
       "      <td>120.0</td>\n",
       "      <td>360.0</td>\n",
       "      <td>1.0</td>\n",
       "      <td>Urban</td>\n",
       "      <td>Y</td>\n",
       "    </tr>\n",
       "    <tr>\n",
       "      <th>4</th>\n",
       "      <td>LP001008</td>\n",
       "      <td>Male</td>\n",
       "      <td>No</td>\n",
       "      <td>0</td>\n",
       "      <td>Graduate</td>\n",
       "      <td>No</td>\n",
       "      <td>6000</td>\n",
       "      <td>0.0</td>\n",
       "      <td>141.0</td>\n",
       "      <td>360.0</td>\n",
       "      <td>1.0</td>\n",
       "      <td>Urban</td>\n",
       "      <td>Y</td>\n",
       "    </tr>\n",
       "  </tbody>\n",
       "</table>\n",
       "</div>"
      ],
      "text/plain": [
       "    Loan_ID Gender Married Dependents     Education Self_Employed  \\\n",
       "0  LP001002   Male      No          0      Graduate            No   \n",
       "1  LP001003   Male     Yes          1      Graduate            No   \n",
       "2  LP001005   Male     Yes          0      Graduate           Yes   \n",
       "3  LP001006   Male     Yes          0  Not Graduate            No   \n",
       "4  LP001008   Male      No          0      Graduate            No   \n",
       "\n",
       "   ApplicantIncome  CoapplicantIncome  LoanAmount  Loan_Amount_Term  \\\n",
       "0             5849                0.0         NaN             360.0   \n",
       "1             4583             1508.0       128.0             360.0   \n",
       "2             3000                0.0        66.0             360.0   \n",
       "3             2583             2358.0       120.0             360.0   \n",
       "4             6000                0.0       141.0             360.0   \n",
       "\n",
       "   Credit_History Property_Area Loan_Status  \n",
       "0             1.0         Urban           Y  \n",
       "1             1.0         Rural           N  \n",
       "2             1.0         Urban           Y  \n",
       "3             1.0         Urban           Y  \n",
       "4             1.0         Urban           Y  "
      ]
     },
     "execution_count": 7,
     "metadata": {},
     "output_type": "execute_result"
    }
   ],
   "source": [
    "df_train.head()"
   ]
  },
  {
   "cell_type": "code",
   "execution_count": 8,
   "id": "6a13e459-8cc7-4123-9497-ecb4523b82f0",
   "metadata": {
    "tags": []
   },
   "outputs": [
    {
     "name": "stdout",
     "output_type": "stream",
     "text": [
      "##################### Shape #####################\n",
      "(614, 13)\n",
      "##################### Types #####################\n",
      "Loan_ID               object\n",
      "Gender                object\n",
      "Married               object\n",
      "Dependents            object\n",
      "Education             object\n",
      "Self_Employed         object\n",
      "ApplicantIncome        int64\n",
      "CoapplicantIncome    float64\n",
      "LoanAmount           float64\n",
      "Loan_Amount_Term     float64\n",
      "Credit_History       float64\n",
      "Property_Area         object\n",
      "Loan_Status           object\n",
      "dtype: object\n",
      "##################### Head #####################\n",
      "    Loan_ID Gender Married Dependents     Education Self_Employed  \\\n",
      "0  LP001002   Male      No          0      Graduate            No   \n",
      "1  LP001003   Male     Yes          1      Graduate            No   \n",
      "2  LP001005   Male     Yes          0      Graduate           Yes   \n",
      "3  LP001006   Male     Yes          0  Not Graduate            No   \n",
      "4  LP001008   Male      No          0      Graduate            No   \n",
      "\n",
      "   ApplicantIncome  CoapplicantIncome  LoanAmount  Loan_Amount_Term  \\\n",
      "0             5849                0.0         NaN             360.0   \n",
      "1             4583             1508.0       128.0             360.0   \n",
      "2             3000                0.0        66.0             360.0   \n",
      "3             2583             2358.0       120.0             360.0   \n",
      "4             6000                0.0       141.0             360.0   \n",
      "\n",
      "   Credit_History Property_Area Loan_Status  \n",
      "0             1.0         Urban           Y  \n",
      "1             1.0         Rural           N  \n",
      "2             1.0         Urban           Y  \n",
      "3             1.0         Urban           Y  \n",
      "4             1.0         Urban           Y  \n",
      "##################### NA #####################\n",
      "Loan_ID               0\n",
      "Gender               13\n",
      "Married               3\n",
      "Dependents           15\n",
      "Education             0\n",
      "Self_Employed        32\n",
      "ApplicantIncome       0\n",
      "CoapplicantIncome     0\n",
      "LoanAmount           22\n",
      "Loan_Amount_Term     14\n",
      "Credit_History       50\n",
      "Property_Area         0\n",
      "Loan_Status           0\n",
      "dtype: int64\n",
      "##################### Quantiles #####################\n",
      "                    0.00     0.05    0.50     0.95      0.99     1.00\n",
      "ApplicantIncome    150.0  1897.55  3812.5  14583.0  32540.41  81000.0\n",
      "CoapplicantIncome    0.0     0.00  1188.5   4997.4   8895.89  41667.0\n",
      "LoanAmount           9.0    56.00   128.0    297.8    496.36    700.0\n",
      "Loan_Amount_Term    12.0   180.00   360.0    360.0    480.00    480.0\n",
      "Credit_History       0.0     0.00     1.0      1.0      1.00      1.0\n"
     ]
    }
   ],
   "source": [
    "def check_df(dataframe):\n",
    "    print(\"##################### Shape #####################\")\n",
    "    print(dataframe.shape)\n",
    "    print(\"##################### Types #####################\")\n",
    "    print(dataframe.dtypes)\n",
    "    print(\"##################### Head #####################\")\n",
    "    print(dataframe.head(5))\n",
    "    print(\"##################### NA #####################\")\n",
    "    print(dataframe.isnull().sum())\n",
    "    print(\"##################### Quantiles #####################\")\n",
    "    print(dataframe.quantile([0, 0.05, 0.50, 0.95, 0.99, 1]).T)\n",
    "\n",
    "check_df(df_train)"
   ]
  },
  {
   "cell_type": "markdown",
   "id": "e5121bff-42e6-4219-9ed2-5545df09bfc1",
   "metadata": {},
   "source": [
    "## Data cleaning"
   ]
  },
  {
   "cell_type": "code",
   "execution_count": 9,
   "id": "bf6819d4-ef9f-44d2-a280-a3725b56d313",
   "metadata": {},
   "outputs": [
    {
     "data": {
      "text/plain": [
       "<function matplotlib.pyplot.plot(*args, scalex=True, scaley=True, data=None, **kwargs)>"
      ]
     },
     "execution_count": 9,
     "metadata": {},
     "output_type": "execute_result"
    },
    {
     "data": {
      "image/png": "[encoded data removed]",
      "text/plain": [
       "<Figure size 1440x360 with 1 Axes>"
      ]
     },
     "metadata": {
      "needs_background": "light"
     },
     "output_type": "display_data"
    }
   ],
   "source": [
    "#plotout columns with missing data\n",
    "plt.figure(figsize=(20,5))\n",
    "sns.heatmap(df_train.isnull(),yticklabels=False,cbar=False,cmap='viridis')\n",
    "plt.plot"
   ]
  },
  {
   "cell_type": "code",
   "execution_count": 24,
   "id": "d0778766-5594-4f29-a9e2-377d5dab184d",
   "metadata": {},
   "outputs": [
    {
     "data": {
      "text/plain": [
       "Index(['loan_id', 'gender', 'married', 'dependents', 'education',\n",
       "       'self_employed', 'applicantincome', 'coapplicantincome', 'loanamount',\n",
       "       'loan_amount_term', 'credit_history', 'property_area', 'loan_status'],\n",
       "      dtype='object')"
      ]
     },
     "execution_count": 24,
     "metadata": {},
     "output_type": "execute_result"
    }
   ],
   "source": [
    "#column names to lower case\n",
    "df_train.columns = df_train.columns.str.lower()\n",
    "df_train.columns"
   ]
  },
  {
   "cell_type": "code",
   "execution_count": 26,
   "id": "5c517c0a-10dd-4338-adf0-acaaa21c11f2",
   "metadata": {},
   "outputs": [
    {
     "data": {
      "text/plain": [
       "No     500\n",
       "Yes     82\n",
       "Name: self_employed, dtype: int64"
      ]
     },
     "execution_count": 26,
     "metadata": {},
     "output_type": "execute_result"
    }
   ],
   "source": [
    "df_train.self_employed.value_counts()"
   ]
  },
  {
   "cell_type": "code",
   "execution_count": 27,
   "id": "cb6e4fdc-4d56-4c85-90fe-498768f55f44",
   "metadata": {},
   "outputs": [
    {
     "data": {
      "text/plain": [
       "1.0    475\n",
       "0.0     89\n",
       "Name: credit_history, dtype: int64"
      ]
     },
     "execution_count": 27,
     "metadata": {},
     "output_type": "execute_result"
    }
   ],
   "source": [
    "df_train.credit_history.value_counts()"
   ]
  },
  {
   "cell_type": "code",
   "execution_count": 28,
   "id": "a8100ce4-6968-4b7e-adc1-9c9ce1e6d60c",
   "metadata": {},
   "outputs": [
    {
     "data": {
      "text/plain": [
       "360.0    512\n",
       "180.0     44\n",
       "480.0     15\n",
       "300.0     13\n",
       "240.0      4\n",
       "84.0       4\n",
       "120.0      3\n",
       "60.0       2\n",
       "36.0       2\n",
       "12.0       1\n",
       "Name: loan_amount_term, dtype: int64"
      ]
     },
     "execution_count": 28,
     "metadata": {},
     "output_type": "execute_result"
    }
   ],
   "source": [
    "df_train.loan_amount_term.value_counts()"
   ]
  },
  {
   "cell_type": "code",
   "execution_count": 29,
   "id": "08744624-9c00-4d5b-9880-9d0c845a75d0",
   "metadata": {},
   "outputs": [
    {
     "data": {
      "text/plain": [
       "120.0    20\n",
       "110.0    17\n",
       "100.0    15\n",
       "160.0    12\n",
       "187.0    12\n",
       "         ..\n",
       "240.0     1\n",
       "214.0     1\n",
       "59.0      1\n",
       "166.0     1\n",
       "253.0     1\n",
       "Name: loanamount, Length: 203, dtype: int64"
      ]
     },
     "execution_count": 29,
     "metadata": {},
     "output_type": "execute_result"
    }
   ],
   "source": [
    "df_train.loanamount.value_counts()"
   ]
  },
  {
   "cell_type": "code",
   "execution_count": 31,
   "id": "ee471c5c-397a-4a1d-82ce-d01c38e12587",
   "metadata": {},
   "outputs": [
    {
     "data": {
      "text/plain": [
       "0     345\n",
       "1     102\n",
       "2     101\n",
       "3+     51\n",
       "Name: dependents, dtype: int64"
      ]
     },
     "execution_count": 31,
     "metadata": {},
     "output_type": "execute_result"
    }
   ],
   "source": [
    "df_train.dependents.value_counts()"
   ]
  },
  {
   "cell_type": "code",
   "execution_count": 32,
   "id": "bda878a3-040f-4c62-afe3-05f3baa981c0",
   "metadata": {},
   "outputs": [
    {
     "data": {
      "text/plain": [
       "Male      489\n",
       "Female    112\n",
       "Name: gender, dtype: int64"
      ]
     },
     "execution_count": 32,
     "metadata": {},
     "output_type": "execute_result"
    }
   ],
   "source": [
    "df_train.gender.value_counts()"
   ]
  },
  {
   "cell_type": "code",
   "execution_count": 33,
   "id": "10de87eb-38fe-4fe4-95f2-1261e2223d1b",
   "metadata": {},
   "outputs": [
    {
     "data": {
      "text/plain": [
       "149"
      ]
     },
     "execution_count": 33,
     "metadata": {},
     "output_type": "execute_result"
    }
   ],
   "source": [
    "#Find the total number of missing values from the entire dataset\n",
    "df_train.isnull().sum().sum()"
   ]
  },
  {
   "cell_type": "markdown",
   "id": "65a4508f-0ddd-46d6-884b-00d75c18b841",
   "metadata": {},
   "source": [
    "### Filling out missing data\n",
    "For categorical columns, we shall use mode to fillout all missing values"
   ]
  },
  {
   "cell_type": "code",
   "execution_count": 36,
   "id": "7ed6d59e-4ed6-4e50-870c-40f3cea1d55d",
   "metadata": {},
   "outputs": [
    {
     "data": {
      "text/plain": [
       "loan_id               0\n",
       "gender                0\n",
       "married               0\n",
       "dependents           15\n",
       "education             0\n",
       "self_employed         0\n",
       "applicantincome       0\n",
       "coapplicantincome     0\n",
       "loanamount           22\n",
       "loan_amount_term     14\n",
       "credit_history       50\n",
       "property_area         0\n",
       "loan_status           0\n",
       "dtype: int64"
      ]
     },
     "execution_count": 36,
     "metadata": {},
     "output_type": "execute_result"
    }
   ],
   "source": [
    "#Replace the missing values for categorical columns with mode\n",
    "df_train['gender'] = df_train['gender'].fillna(df_train['gender'].mode()[0])\n",
    "df_train['married'] = df_train['married'].fillna(df_train['married'].mode()[0])\n",
    "df_train['self_employed'] = df_train['self_employed'].fillna(df_train['self_employed'].mode()[0])\n",
    "df_train.isnull().sum()"
   ]
  },
  {
   "cell_type": "markdown",
   "id": "32ed4dd9-1c0a-462f-b974-d8ff61d82c18",
   "metadata": {},
   "source": [
    "For numerical columns, we have to first do outlier analysis. for columns with outliers we use medium of the series to fill out missing data and for data with no outliers we use mean"
   ]
  },
  {
   "cell_type": "code",
   "execution_count": 48,
   "id": "51dba0f2-d60b-4cd6-ae4c-a74e788a83e2",
   "metadata": {},
   "outputs": [],
   "source": [
    "#Checking for outliers in loan_amount_term column\n",
    "def detect_outliers(data):\n",
    "    quartile_1, quartile_3 = np.percentile(data, [25, 75])\n",
    "    iqr = quartile_3 - quartile_1\n",
    "    lower_bound = quartile_1 - (iqr * 1.5)\n",
    "    upper_bound = quartile_3 + (iqr * 1.5)\n",
    "    outliers = [x for x in data if x < lower_bound or x > upper_bound]\n",
    "    return outliers"
   ]
  },
  {
   "cell_type": "code",
   "execution_count": 49,
   "id": "9b6a1207-e36b-47eb-beee-9b6bbe26a418",
   "metadata": {},
   "outputs": [
    {
     "name": "stdout",
     "output_type": "stream",
     "text": [
      "[]\n"
     ]
    }
   ],
   "source": [
    "print(detect_outliers(df_train['loan_amount_term']))"
   ]
  },
  {
   "cell_type": "code",
   "execution_count": 50,
   "id": "c82a4737-6c80-4318-8e21-e057fd045145",
   "metadata": {},
   "outputs": [
    {
     "data": {
      "text/plain": [
       "360.0    512\n",
       "180.0     44\n",
       "480.0     15\n",
       "300.0     13\n",
       "240.0      4\n",
       "84.0       4\n",
       "120.0      3\n",
       "60.0       2\n",
       "36.0       2\n",
       "12.0       1\n",
       "Name: loan_amount_term, dtype: int64"
      ]
     },
     "execution_count": 50,
     "metadata": {},
     "output_type": "execute_result"
    }
   ],
   "source": [
    "df_train.loan_amount_term.value_counts()"
   ]
  },
  {
   "cell_type": "markdown",
   "id": "f45d76d7-bad6-4200-a3f6-d8043d5bd391",
   "metadata": {},
   "source": [
    "our function above returns no outliers, but by observation we have 480 which is isolated from the rest of the values, so not to tamper alot with data integrity we shall use medium to fill missing data"
   ]
  },
  {
   "cell_type": "code",
   "execution_count": 57,
   "id": "16a690b2-39e1-4533-98f8-97be6f32a29f",
   "metadata": {},
   "outputs": [],
   "source": [
    "#our function above returns no outliers, but by observation we have 480 which is isolated from the rest of the values, so not to tamper alot with data integrity we shall use medium to fill missing data\n",
    "df_train['loan_amount_term']= df_train['loan_amount_term'].fillna(df_train['loan_amount_term'].median())"
   ]
  },
  {
   "cell_type": "code",
   "execution_count": 58,
   "id": "6119f584-54e8-419b-8eea-132ff02e8b7c",
   "metadata": {},
   "outputs": [
    {
     "data": {
      "text/plain": [
       "loan_id               0\n",
       "gender                0\n",
       "married               0\n",
       "dependents           15\n",
       "education             0\n",
       "self_employed         0\n",
       "applicantincome       0\n",
       "coapplicantincome     0\n",
       "loanamount           22\n",
       "loan_amount_term      0\n",
       "credit_history       50\n",
       "property_area         0\n",
       "loan_status           0\n",
       "dtype: int64"
      ]
     },
     "execution_count": 58,
     "metadata": {},
     "output_type": "execute_result"
    }
   ],
   "source": [
    "df_train.isnull().sum()"
   ]
  },
  {
   "cell_type": "code",
   "execution_count": 60,
   "id": "417e04bf-c8e0-42b0-9280-ca7de981b3e9",
   "metadata": {},
   "outputs": [
    {
     "name": "stdout",
     "output_type": "stream",
     "text": [
      "[]\n"
     ]
    }
   ],
   "source": [
    "#Checking for outliers in credit_history column\n",
    "print(detect_outliers(df_train['credit_history']))"
   ]
  },
  {
   "cell_type": "code",
   "execution_count": 62,
   "id": "fba6f60f-4ffe-4829-998b-22bb10e3704f",
   "metadata": {},
   "outputs": [
    {
     "name": "stdout",
     "output_type": "stream",
     "text": [
      "[]\n"
     ]
    }
   ],
   "source": [
    "#Checking for outliers in loanamount column\n",
    "print(detect_outliers(df_train['loanamount']))"
   ]
  },
  {
   "cell_type": "markdown",
   "id": "aec97a5d-637c-4431-853a-5b1f442b31e3",
   "metadata": {},
   "source": [
    "We are using mean to fillout missing values since we see no outliers"
   ]
  },
  {
   "cell_type": "code",
   "execution_count": 66,
   "id": "f4fa848f-85c8-4c51-ad88-1837d1ea15d3",
   "metadata": {},
   "outputs": [],
   "source": [
    "#Replace the missing values for numerical columns with mean\n",
    "df_train['loanamount'] = df_train['loanamount'].fillna(df_train['loanamount'].mean())\n",
    "df_train['credit_history'] = df_train['credit_history'].fillna(df_train['credit_history'].mean())"
   ]
  },
  {
   "cell_type": "code",
   "execution_count": 67,
   "id": "dcace05d-86cf-4337-95b8-286b28831d98",
   "metadata": {},
   "outputs": [
    {
     "data": {
      "text/plain": [
       "loan_id               0\n",
       "gender                0\n",
       "married               0\n",
       "dependents           15\n",
       "education             0\n",
       "self_employed         0\n",
       "applicantincome       0\n",
       "coapplicantincome     0\n",
       "loanamount            0\n",
       "loan_amount_term      0\n",
       "credit_history        0\n",
       "property_area         0\n",
       "loan_status           0\n",
       "dtype: int64"
      ]
     },
     "execution_count": 67,
     "metadata": {},
     "output_type": "execute_result"
    }
   ],
   "source": [
    "df_train.isnull().sum()"
   ]
  },
  {
   "cell_type": "code",
   "execution_count": 68,
   "id": "02bcd8cc-e2cf-4e39-af9f-8f02e35f5f30",
   "metadata": {},
   "outputs": [
    {
     "data": {
      "text/plain": [
       "<function matplotlib.pyplot.plot(*args, scalex=True, scaley=True, data=None, **kwargs)>"
      ]
     },
     "execution_count": 68,
     "metadata": {},
     "output_type": "execute_result"
    },
    {
     "data": {
      "image/png": "[encoded data removed]",
      "text/plain": [
       "<Figure size 1440x360 with 1 Axes>"
      ]
     },
     "metadata": {
      "needs_background": "light"
     },
     "output_type": "display_data"
    }
   ],
   "source": [
    "#plotout columns with missing data\n",
    "plt.figure(figsize=(20,5))\n",
    "sns.heatmap(df_train.isnull(),yticklabels=False,cbar=False,cmap='viridis')\n",
    "plt.plot"
   ]
  },
  {
   "cell_type": "code",
   "execution_count": null,
   "id": "1f8f20ed-2f8f-458c-9b1d-69eb988ec8bd",
   "metadata": {},
   "outputs": [],
   "source": []
  }
 ],
 "metadata": {
  "kernelspec": {
   "display_name": "Python 3 (ipykernel)",
   "language": "python",
   "name": "python3"
  },
  "language_info": {
   "codemirror_mode": {
    "name": "ipython",
    "version": 3
   },
   "file_extension": ".py",
   "mimetype": "text/x-python",
   "name": "python",
   "nbconvert_exporter": "python",
   "pygments_lexer": "ipython3",
   "version": "3.10.9"
  }
 },
 "nbformat": 4,
 "nbformat_minor": 5
}
